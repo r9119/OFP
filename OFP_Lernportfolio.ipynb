{
 "cells": [
  {
   "cell_type": "markdown",
   "metadata": {},
   "source": [
    "# OFP Lernportfolio HS23\n",
    "### Rami Tarabishi"
   ]
  },
  {
   "cell_type": "code",
   "execution_count": 54,
   "metadata": {},
   "outputs": [],
   "source": [
    "# Imports\n",
    "import time\n",
    "from functools import reduce"
   ]
  },
  {
   "cell_type": "markdown",
   "metadata": {},
   "source": [
    "## Einführungs Aufgaben/Tutorials:\n",
    "\n",
    "In diesem teil des Lernportfolios gehe ich durch ein paar die einführungs videos und Kurse zur funktionale Programmierung.\n",
    "\n",
    "* Was ist funktionale Programmierung?\n",
    "  * A programming technique that avoids side effects by performing computation primarily through the evaluation of functions.\n",
    "  * Mainly uses immutable data structures, and performs computation through the evaluation of mathematical functions."
   ]
  },
  {
   "cell_type": "markdown",
   "metadata": {},
   "source": [
    "### Teil 1:\n",
    "#### 1.1.1 <b>anzahl_gerade()</b> mit reduce und filter implementieren.\n",
    "Die Funktion <b>anzahl_gerade()</b> zählt die Anzahl der geraden Zahlen in einer Liste.\n",
    "\n",
    "Input : [1,2,3,4,5,6,7,8,9,10]\n",
    "\n",
    "Erwartete output: 5"
   ]
  },
  {
   "cell_type": "code",
   "execution_count": 3,
   "metadata": {},
   "outputs": [
    {
     "data": {
      "text/plain": [
       "5"
      ]
     },
     "execution_count": 3,
     "metadata": {},
     "output_type": "execute_result"
    }
   ],
   "source": [
    "def anzahl_gerade(x):\n",
    "    '''\n",
    "    x: list\n",
    "        List of numbers\n",
    "    -----\n",
    "    returns: int\n",
    "        Number of even numbers in list x\n",
    "    '''\n",
    "    # return len([i for i in x if i % 2 == 0])\n",
    "\n",
    "    return reduce(lambda a, _: a + 1, list(filter(lambda i : i % 2 == 0, x)), 0)\n",
    "\n",
    "# Test\n",
    "anzahl_gerade([1, 2, 3, 4, 5, 6, 7, 8, 9, 10])"
   ]
  },
  {
   "cell_type": "markdown",
   "metadata": {},
   "source": [
    "- Was hast du gemacht?\n",
    "  - Ich habe eine funktion die die Anzahl der geraden Zahlen in einer Liste zählt implementiert durch die funktionne reduce und filter. Ich hatte mit der implementierung nur ein kleines problem, am anfang dachte ich das es unmöglich ist die funktion mit reduce und filter zusammen zu implementieren aber nach ein bischen nachdenken und debugging/testing hatte ich richtig die Reduce funktion verstanden und hatte danach keine probleme mit der implementierung von beiden funktionen zusammen.\n",
    "- Welche Erkenntnisse blieben dauerhaft?\n",
    "  - Für mich personlich habe ich nicht grosse neue Erkenntinisse entwickled da ich schon länger programiere und funktionelle Programmierung kenne, aber die Reduce function in python var neu für mich und ich habe sie jetzt richtig verstanden.\n",
    "- Welche Fragen sind jetzt offen?\n",
    "  - Warum nicht list comprehensions benutzen? Ich finde sie einfacher und schöner zu lesen."
   ]
  },
  {
   "cell_type": "markdown",
   "metadata": {},
   "source": [
    "#### 1.1.2 <b>curry()</b>\n",
    "\n",
    "Die Funktion <b>curry()</b> macht aus Funktionen mit beliebig vielen Parametern eine neue, deren erster Parameter fixiert ist.\n",
    "\n",
    "Input: summe(x1, x2, x3), x1 = curry(5), x2 = 7, x3 = 10\n",
    "\n",
    "Erwartete output: 22, summe(x1, x2, x3) wo x1 durch curry als 5 fixiert ist"
   ]
  },
  {
   "cell_type": "code",
   "execution_count": 4,
   "metadata": {},
   "outputs": [
    {
     "data": {
      "text/plain": [
       "22"
      ]
     },
     "execution_count": 4,
     "metadata": {},
     "output_type": "execute_result"
    }
   ],
   "source": [
    "def curry(func, *args):\n",
    "    '''\n",
    "    func: function\n",
    "        The function to be curried\n",
    "    *args: list\n",
    "        List of arguments to be passed to func\n",
    "    -----\n",
    "    returns: function\n",
    "        Curried function\n",
    "    '''\n",
    "    return lambda *x: func(*(args + x))\n",
    "\n",
    "# Test\n",
    "def summe(a, b, c):\n",
    "    return a + b + c\n",
    "\n",
    "summe_curried = curry(summe, 5)\n",
    "\n",
    "summe_curried(7, 10)"
   ]
  },
  {
   "cell_type": "markdown",
   "metadata": {},
   "source": [
    "- Was hast du gemacht?\n",
    "  - Die curry funktion implementiert mit der hilfe von anonymen funktionen. Hatte diesmal keine probleme mit der implementierung.\n",
    "- Welche Erkenntnisse blieben dauerhaft?\n",
    "  - Über Closures und Curry funktionen gelernt und wie/wo man sie einsetzt.\n",
    "- Welche Fragen sind jetzt offen?\n",
    "  - Die curry funktion die ich jetzt implementiert hat, repräsentiert nicht das echte curry Konzept, oder? Wie ich es verstehe ist Currying die Reduzierung einer Funktion, die mehere argumenten nimmt inzu mehrere funktionen, die jeweils nur ein argument nehmen aber das gleiche ergebnis liefern. In unsere funktion fixiert man nur das erste argument und nicht alle argumente. "
   ]
  },
  {
   "cell_type": "markdown",
   "metadata": {},
   "source": [
    "#### 1.1.3 <b>mein_filter()</b> nur mit reduce implementieren.\n",
    "\n",
    "Die Funktion <b>mein_filter()</b> filtert eine Liste mit einer gegebenen Funktion.\n",
    "\n",
    "Input: [1, 5, 3, 6, 8, 10, 52, 33, 11], filter_func(x) = x % 2 == 0\n",
    "\n",
    "Erwartete output: [6, 8, 10, 52]"
   ]
  },
  {
   "cell_type": "code",
   "execution_count": 5,
   "metadata": {},
   "outputs": [
    {
     "data": {
      "text/plain": [
       "[6, 8, 10, 52]"
      ]
     },
     "execution_count": 5,
     "metadata": {},
     "output_type": "execute_result"
    }
   ],
   "source": [
    "def mein_filter(func, x):\n",
    "    '''\n",
    "    func: function\n",
    "        The function to be applied to the list\n",
    "    list: list\n",
    "        List of elements\n",
    "    -----\n",
    "    returns: list\n",
    "        Filtered list\n",
    "    '''\n",
    "    # filtered_list = []\n",
    "\n",
    "    # for element in x:\n",
    "    #     if func(element):\n",
    "    #         filtered_list.append(element)\n",
    "\n",
    "    # return filtered_list\n",
    "\n",
    "    return reduce(lambda a, b: a + [b], [i for i in x if func(i)], [])\n",
    "\n",
    "# Test\n",
    "mein_filter(lambda x: x % 2 == 0, [1, 5, 3, 6, 8, 10, 52, 33, 11])"
   ]
  },
  {
   "cell_type": "markdown",
   "metadata": {},
   "source": [
    "- Was hast du gemacht?\n",
    "  - Ging auch gleich wie den oberen funktionen, hatte auch wie ber der <b>anzah_gerade()</b> funktion es erst iterativ implementiert und danach mit nur der Reduce funktion funktionell implementiert.\n",
    "- Welche Erkenntnisse blieben dauerhaft?\n",
    "  - Nichts neues eigentlich.\n",
    "- Welche Fragen sind jetzt offen?\n",
    "  - Keine neue fragen sind offen, einfach gleich wie ber 1.1, warum nicht list comprehensions?"
   ]
  },
  {
   "cell_type": "markdown",
   "metadata": {},
   "source": [
    "### 1.2 Unveränderliche Datenstrukturen:\n",
    "\n",
    "Unveränderliche Datenstrukturen sind Datenstrukturen, die nach ihrer Erstellung nicht mehr verändert werden können. Dies steht im Gegensatz zu veränderlichen Datenstrukturen, die nach ihrer Erstellung verändert werden können.\n",
    "\n",
    "Beispiele für unveränderliche Datenstrukturen sind:\n",
    "* Strings\n",
    "* Tuples\n",
    "* Named tuples\n",
    "* Frozen sets\n",
    "\n",
    "\n",
    "Vorteile von unveränderlichen Datenstrukturen:\n",
    "* Datensicherheit\n",
    "* Thread-Sicherheit\n",
    "* Vorhersehbares Verhalten\n",
    "* Effiziente Speicherplatznutzung\n",
    "\n",
    "Codebeispiele und Beweise:"
   ]
  },
  {
   "cell_type": "code",
   "execution_count": 6,
   "metadata": {},
   "outputs": [
    {
     "name": "stdout",
     "output_type": "stream",
     "text": [
      "Original String Memory Address: 2236833037744\n",
      "Original String Memory Address: 2236835277968\n",
      "Original String: Hello, World!\n",
      "Modified String: Hello, World! How are you?\n"
     ]
    }
   ],
   "source": [
    "original_string = \"Hello, World!\"\n",
    "print(\"Original String Memory Address:\", id(original_string))\n",
    "\n",
    "modified_string = original_string + \" How are you?\"\n",
    "print(\"Original String Memory Address:\", id(modified_string))\n",
    "\n",
    "print(\"Original String:\", original_string)\n",
    "print(\"Modified String:\", modified_string)"
   ]
  },
  {
   "cell_type": "code",
   "execution_count": 7,
   "metadata": {},
   "outputs": [
    {
     "name": "stdout",
     "output_type": "stream",
     "text": [
      "TypeError: 'tuple' object does not support item assignment\n"
     ]
    }
   ],
   "source": [
    "original_tuple = (1, 2, 3)\n",
    "\n",
    "try:\n",
    "    original_tuple[0] = 4\n",
    "except TypeError as err:\n",
    "    print(\"TypeError:\", err)"
   ]
  },
  {
   "cell_type": "code",
   "execution_count": 8,
   "metadata": {},
   "outputs": [
    {
     "name": "stdout",
     "output_type": "stream",
     "text": [
      "AttributeError: can't set attribute\n"
     ]
    }
   ],
   "source": [
    "from collections import namedtuple\n",
    "\n",
    "Person = namedtuple(\"Person\", [\"name\", \"age\"])\n",
    "person = Person(\"Alice\", 30)\n",
    "\n",
    "try:\n",
    "    person.name = \"Bob\"\n",
    "except AttributeError as err:\n",
    "    print(\"AttributeError:\", err)"
   ]
  },
  {
   "cell_type": "code",
   "execution_count": 9,
   "metadata": {},
   "outputs": [
    {
     "name": "stdout",
     "output_type": "stream",
     "text": [
      "Regular Set: {1, 2, 3, 4}\n",
      "AttributeError: 'frozenset' object has no attribute 'add'\n"
     ]
    }
   ],
   "source": [
    "original_set = {1, 2, 3}\n",
    "frozen_set = frozenset(original_set)\n",
    "original_set.add(4)\n",
    "print(\"Regular Set:\", original_set)\n",
    "\n",
    "try:\n",
    "    frozen_set.add(4)\n",
    "except AttributeError as err:\n",
    "    print(\"AttributeError:\", err)"
   ]
  },
  {
   "cell_type": "markdown",
   "metadata": {},
   "source": [
    "## Teil 2: Funktionelle Fibonacci Zahlen\n",
    "\n",
    "In diesem teil gehe ich durch die aufgaben von dem dokument ['Fibonnaci-Fuktionen'](https://spaces.technik.fhnw.ch/storage/uploads/spaces/73/exercises/02-Fibonacci-Funktionen-1688898068.pdf). "
   ]
  },
  {
   "cell_type": "markdown",
   "metadata": {},
   "source": [
    "### 2.1 Aufgaben mit rekursiven Fibonacci-Funktionen:\n",
    "\n"
   ]
  },
  {
   "cell_type": "markdown",
   "metadata": {},
   "source": [
    "#### 2.1.1:\n",
    "\n",
    "Die Variable cnt im Beispiel ist ausserhalb der Funktion fibonacci_rec definiert. Innerhalb der Funktion kann problemlos lesend darauf zugegriffen werden. Damit auch ein neuer Wert zugewiesen werden kann (update), braucht es innerhalb der Funktion zusätzliche die Anweisung global cnt. Dafür mag es technische Gründe geben, die uns hier nicht interessieren.\n",
    "\n",
    "Diskutiere aus der Perspektive der Prinzipien der Funktionalen Programmierung, was beim Programmieren durch Einfügen oder Weglassen einer global-Anweisung ausgedrückt wird. Oder andersherum: Welche bei der Funktionalen Programmierung interessante Eigenschaft hat eine Funktion, die keine global-Anweisung enthält?\n",
    "\n",
    "```python\n",
    "cnt = 0\n",
    "\n",
    "def fibonacci_rec_cnt(n: int) -> int:\n",
    "    global cnt\n",
    "    cnt += 1\n",
    "    return n if n <= 1 else fibonacci_rec_cnt(n - 1) + fibonacci_rec_cnt(n - 2)\n",
    "\n",
    "print(fibonacci_rec_cnt(10), cnt)\n",
    "```\n",
    "\n",
    "Antwort: <br>\n",
    "Durch Vervendung von der `global` Anweisung, wird ein Element der Veränderbarkeit eingeführt. Dies ist nicht funktional, da die Funktion nicht mehr nur von den Argumenten abhängt, sondern auch von der globalen Variable."
   ]
  },
  {
   "cell_type": "markdown",
   "metadata": {},
   "source": [
    "#### 2.1.2:\n",
    "Die Funktion mit diesem Zähler ist nicht pure. Kannst Du diese Funktion so programmieren, dass sie im Sinne der funktionalen Programmierung pure ist?\n",
    "\n",
    "Code: (Expected resutl (55, 177))"
   ]
  },
  {
   "cell_type": "code",
   "execution_count": 10,
   "metadata": {},
   "outputs": [
    {
     "name": "stdout",
     "output_type": "stream",
     "text": [
      "55\n"
     ]
    }
   ],
   "source": [
    "def fibonacci_rec_pure(n :int, cnt: int) -> int:\n",
    "    cnt += 1\n",
    "    return n if n <= 1 else fibonacci_rec_pure(n - 1, cnt) + fibonacci_rec_pure(n - 2, cnt)\n",
    "\n",
    "result = fibonacci_rec_pure(10, 0)\n",
    "\n",
    "print(result)"
   ]
  },
  {
   "cell_type": "code",
   "execution_count": 11,
   "metadata": {},
   "outputs": [
    {
     "name": "stdout",
     "output_type": "stream",
     "text": [
      "((((((((((1, 10, 0, 10), 9, 1, 9), 8, (1, 9, 0, 9), 8), 7, ((1, 9, 0, 9), 8, 1, 8), 7), 6, (((1, 9, 0, 9), 8, 1, 8), 7, (1, 8, 0, 8), 7), 6), 5, ((((1, 9, 0, 9), 8, 1, 8), 7, (1, 8, 0, 8), 7), 6, ((1, 8, 0, 8), 7, 1, 7), 6), 5), 4, (((((1, 9, 0, 9), 8, 1, 8), 7, (1, 8, 0, 8), 7), 6, ((1, 8, 0, 8), 7, 1, 7), 6), 5, (((1, 8, 0, 8), 7, 1, 7), 6, (1, 7, 0, 7), 6), 5), 4), 3, ((((((1, 9, 0, 9), 8, 1, 8), 7, (1, 8, 0, 8), 7), 6, ((1, 8, 0, 8), 7, 1, 7), 6), 5, (((1, 8, 0, 8), 7, 1, 7), 6, (1, 7, 0, 7), 6), 5), 4, ((((1, 8, 0, 8), 7, 1, 7), 6, (1, 7, 0, 7), 6), 5, ((1, 7, 0, 7), 6, 1, 6), 5), 4), 3), 2, (((((((1, 9, 0, 9), 8, 1, 8), 7, (1, 8, 0, 8), 7), 6, ((1, 8, 0, 8), 7, 1, 7), 6), 5, (((1, 8, 0, 8), 7, 1, 7), 6, (1, 7, 0, 7), 6), 5), 4, ((((1, 8, 0, 8), 7, 1, 7), 6, (1, 7, 0, 7), 6), 5, ((1, 7, 0, 7), 6, 1, 6), 5), 4), 3, (((((1, 8, 0, 8), 7, 1, 7), 6, (1, 7, 0, 7), 6), 5, ((1, 7, 0, 7), 6, 1, 6), 5), 4, (((1, 7, 0, 7), 6, 1, 6), 5, (1, 6, 0, 6), 5), 4), 3), 2), 1)\n"
     ]
    }
   ],
   "source": [
    "def fibonacci_rec_pure(n :int, cnt: int) -> (int, int):\n",
    "    cnt += 1\n",
    "    return (n, cnt) if n <= 1 else (fibonacci_rec_pure(n - 1, cnt) + fibonacci_rec_pure(n - 2, cnt), cnt)\n",
    "\n",
    "result = fibonacci_rec_pure(10, 0)\n",
    "\n",
    "print(result)"
   ]
  },
  {
   "cell_type": "markdown",
   "metadata": {},
   "source": [
    "Hier hatte ich probiert den zähler auch ausgeben aber wie man sieht gibts probleme von der rekursion."
   ]
  },
  {
   "cell_type": "code",
   "execution_count": 12,
   "metadata": {},
   "outputs": [
    {
     "name": "stdout",
     "output_type": "stream",
     "text": [
      "55 177\n"
     ]
    }
   ],
   "source": [
    "def fibonacci_rec_pure(n: int, cnt: int) -> (int, int):\n",
    "    if n <= 1:\n",
    "        return n, cnt + 1\n",
    "    else:\n",
    "        result1, cnt1 = fibonacci_rec_pure(n - 1, cnt)\n",
    "        result2, cnt2 = fibonacci_rec_pure(n - 2, cnt1)\n",
    "        return result1 + result2, cnt2\n",
    "\n",
    "result, cnt = fibonacci_rec_pure(10, 0)\n",
    "\n",
    "print(result, (cnt * 2) - 1)"
   ]
  },
  {
   "cell_type": "markdown",
   "metadata": {},
   "source": [
    "Mit dem letzten Code bleibt die Funktion pure, aber ich muss den Zähler außerhalb der Funktion ändern, um den wahren Wert der Funktionsaufrufe anzuzeigen. Ich bin mir nicht sicher, ob das als pure gilt, daher lasse ich den Code seperat."
   ]
  },
  {
   "cell_type": "markdown",
   "metadata": {},
   "source": [
    "#### 2.1.3:\n",
    "Benutze für das Folgende zunächst die ursprüngliche fibonacci_rec-Funktion, ohne einen Zähler.\n",
    "\n",
    "Ein Vorteil der Funktionalen Programmierung ist, dass Funktionen für dieselben Argumente immer denselben Funktionswert ergeben. Wenn man das weiss, kann die Berechnung der Fibonacci-Zahlen beschleunigt werden, indem einmal berechnete Funktionswerte gespeichert und später bei Bedarf einfach abgerufen werden. Die dafür ideale Datenstruktur ist ein Dictionary mit den Parameter-Werten als key und dem Funktionswert als value. Bei jedem Aufruf der Funktion prüft diese zunächst, ob die angegebenen Parameterwerte bereits im Dictionary enthalten sind. Nur wenn das nicht der Fall ist, wird der Funktionswert tatsächlich berechnet und das Ergebnis dann in das Dictionary eingetragen. Ansonsten kann der im Dictionary gespeicherte Funktionswert direkt und ohne Berechnung retourniert werden.\n",
    "\n",
    "Programmiere diese Idee für die Funktion fibonacci_rec:\n",
    "\n",
    "```python\n",
    "def fibonacci_rec(n: int) -> int:\n",
    "    return n if n <= 1 else fibonacci_rec(n - 1) + fibonacci_rec(n - 2)\n",
    "```\n",
    "\n",
    "Bemerkung 1: Auch diese Funktion ist im technischen Sinne nicht pure wegen des als Seiteneffekt lesend wie schreibend benutzen Dictionaries. Aus Sicht der Funktions-Resultate kann man die Funktion weiterhin als pure ansehen und die Seiteneffekte als technische Unterstützung zu Effizienzsteigerung betrachten.\n",
    "\n",
    "Bemerkung 2: Im Dictionary selbst werden Updates gemacht, aber die Variable, über die das Dictionary referenziert wird, wird nicht verändert. Deswegen benötigt man bei dieser Aufgabe auch keine globalAnweisung."
   ]
  },
  {
   "cell_type": "code",
   "execution_count": 13,
   "metadata": {},
   "outputs": [
    {
     "name": "stdout",
     "output_type": "stream",
     "text": [
      "First computation (NOT memoized, fibonacci number 10)\n",
      "Dict before: {}\n",
      "55\n",
      "Dict after: {1: 1, 0: 0, 2: 1, 3: 2, 4: 3, 5: 5, 6: 8, 7: 13, 8: 21, 9: 34, 10: 55}\n",
      "Second computation (memoized, fibonacci number 10)\n",
      "Dict before: {1: 1, 0: 0, 2: 1, 3: 2, 4: 3, 5: 5, 6: 8, 7: 13, 8: 21, 9: 34, 10: 55}\n",
      "55\n",
      "Dict after: {1: 1, 0: 0, 2: 1, 3: 2, 4: 3, 5: 5, 6: 8, 7: 13, 8: 21, 9: 34, 10: 55}\n"
     ]
    }
   ],
   "source": [
    "def fibonacci_rec_memorize(n: int, memo: dict) -> int:\n",
    "    if n in memo:\n",
    "        return memo[n]\n",
    "    else:\n",
    "        memo[n] = n if n <= 1 else fibonacci_rec_memorize(n - 1, memo) + fibonacci_rec_memorize(n - 2, memo)\n",
    "        return memo[n]\n",
    "    \n",
    "fib_dict = {}\n",
    "\n",
    "print(\"First computation (NOT memoized, fibonacci number 10)\")\n",
    "print(\"Dict before:\", fib_dict)\n",
    "print(fibonacci_rec_memorize(10, fib_dict))\n",
    "print(\"Dict after:\", fib_dict)\n",
    "\n",
    "print(\"Second computation (memoized, fibonacci number 10)\")\n",
    "print(\"Dict before:\", fib_dict)\n",
    "print(fibonacci_rec_memorize(10, fib_dict))\n",
    "print(\"Dict after:\", fib_dict)"
   ]
  },
  {
   "cell_type": "markdown",
   "metadata": {},
   "source": [
    "#### 2.1.4:\n",
    "\n",
    "Kann der Effizienzgewinn auch erreicht werden, wenn Du nun Deine Lösung von Aufgabe 3 (Dictionary) auch in Deine Lösung zu Aufgabe 2 (pure function mit Zähler) einbaust? Warum (nicht)?\n",
    "\n",
    "Bemerkung: Die Antwort auf diese Frage hängt davon ab, wie genau Du Aufgabe 2 gelöst hast.\n",
    "\n",
    "Überprüfe Deine Überlegung experimentell.\n",
    "\n",
    "Falls der Effizienzgewinn verlorengegangen ist: Wie könntest Du Deine Lösung zu Aufgabe 2 modifizieren, dass der «Speichermechanismus» wieder funktioniert, die Funktion aber pure bleibt (bis auf das Dictionary natürlich)?\n",
    "\n",
    "Antwort: <br>\n",
    "Ich glaube es solte möglich sein, mit beiden Lösungen den Effizienzgewinn zu erreichen. Aber den zähler hinfügen kann ich glaub nur mit der \"unpure\" lösung machen da ich den richtigen wert des zählers nur außerhalb der funktion berechnen kann."
   ]
  },
  {
   "cell_type": "code",
   "execution_count": 14,
   "metadata": {},
   "outputs": [
    {
     "name": "stdout",
     "output_type": "stream",
     "text": [
      "First computation (NOT memoized, fibonacci number 10)\n",
      "Dict before: {}\n",
      "55\n",
      "Dict after: {1: 1, 0: 0, 2: 1, 3: 2, 4: 3, 5: 5, 6: 8, 7: 13, 8: 21, 9: 34, 10: 55}\n"
     ]
    }
   ],
   "source": [
    "# def fibonacci_rec_pure(n: int, cnt: int) -> (int, int):\n",
    "#     if n <= 1:\n",
    "#         return n, cnt + 1\n",
    "#     else:\n",
    "#         result1, cnt1 = fibonacci_rec_pure(n - 1, cnt)\n",
    "#         result2, cnt2 = fibonacci_rec_pure(n - 2, cnt1)\n",
    "#         return result1 + result2, cnt2\n",
    "\n",
    "# result, cnt = fibonacci_rec_pure(10, 0)\n",
    "\n",
    "# print(result, (cnt * 2) - 1)\n",
    "\n",
    "# def fibonacci_rec_pure(n :int, cnt: int) -> (int, int):\n",
    "#     cnt += 1\n",
    "#     return n if n <= 1 else fibonacci_rec_pure(n - 1, cnt) + fibonacci_rec_pure(n - 2, cnt)\n",
    "\n",
    "def fibonacci_rec_pure_memorized_no_cnt(n: int, cnt: int, memo: dict) -> int:\n",
    "    if n in memo:\n",
    "        return memo[n]\n",
    "    else:\n",
    "        memo[n] = n if n <= 1 else fibonacci_rec_pure_memorized_no_cnt(n - 1, cnt, memo) + fibonacci_rec_pure_memorized_no_cnt(n - 2, cnt, memo)\n",
    "        return memo[n]\n",
    "    \n",
    "fib_dict = {}\n",
    "\n",
    "print(\"First computation (NOT memoized, fibonacci number 10)\")\n",
    "print(\"Dict before:\", fib_dict)\n",
    "print(fibonacci_rec_pure_memorized_no_cnt(10, 0, fib_dict))\n",
    "print(\"Dict after:\", fib_dict)"
   ]
  },
  {
   "cell_type": "code",
   "execution_count": 15,
   "metadata": {},
   "outputs": [
    {
     "name": "stdout",
     "output_type": "stream",
     "text": [
      "First computation (NOT memoized, fibonacci number 10)\n",
      "Dict before: {}\n",
      "((((((((((1, 10, 0, 10), 9, 1, 9), 8, (1, 10, 0, 10), 8), 7, ((1, 10, 0, 10), 9, 1, 9), 7), 6, (((1, 10, 0, 10), 9, 1, 9), 8, (1, 10, 0, 10), 8), 6), 5, ((((1, 10, 0, 10), 9, 1, 9), 8, (1, 10, 0, 10), 8), 7, ((1, 10, 0, 10), 9, 1, 9), 7), 5), 4, (((((1, 10, 0, 10), 9, 1, 9), 8, (1, 10, 0, 10), 8), 7, ((1, 10, 0, 10), 9, 1, 9), 7), 6, (((1, 10, 0, 10), 9, 1, 9), 8, (1, 10, 0, 10), 8), 6), 4), 3, ((((((1, 10, 0, 10), 9, 1, 9), 8, (1, 10, 0, 10), 8), 7, ((1, 10, 0, 10), 9, 1, 9), 7), 6, (((1, 10, 0, 10), 9, 1, 9), 8, (1, 10, 0, 10), 8), 6), 5, ((((1, 10, 0, 10), 9, 1, 9), 8, (1, 10, 0, 10), 8), 7, ((1, 10, 0, 10), 9, 1, 9), 7), 5), 3), 2, (((((((1, 10, 0, 10), 9, 1, 9), 8, (1, 10, 0, 10), 8), 7, ((1, 10, 0, 10), 9, 1, 9), 7), 6, (((1, 10, 0, 10), 9, 1, 9), 8, (1, 10, 0, 10), 8), 6), 5, ((((1, 10, 0, 10), 9, 1, 9), 8, (1, 10, 0, 10), 8), 7, ((1, 10, 0, 10), 9, 1, 9), 7), 5), 4, (((((1, 10, 0, 10), 9, 1, 9), 8, (1, 10, 0, 10), 8), 7, ((1, 10, 0, 10), 9, 1, 9), 7), 6, (((1, 10, 0, 10), 9, 1, 9), 8, (1, 10, 0, 10), 8), 6), 4), 2), 1)\n",
      "Dict after: {1: 1, 0: 0, 2: (1, 10, 0, 10), 3: ((1, 10, 0, 10), 9, 1, 9), 4: (((1, 10, 0, 10), 9, 1, 9), 8, (1, 10, 0, 10), 8), 5: ((((1, 10, 0, 10), 9, 1, 9), 8, (1, 10, 0, 10), 8), 7, ((1, 10, 0, 10), 9, 1, 9), 7), 6: (((((1, 10, 0, 10), 9, 1, 9), 8, (1, 10, 0, 10), 8), 7, ((1, 10, 0, 10), 9, 1, 9), 7), 6, (((1, 10, 0, 10), 9, 1, 9), 8, (1, 10, 0, 10), 8), 6), 7: ((((((1, 10, 0, 10), 9, 1, 9), 8, (1, 10, 0, 10), 8), 7, ((1, 10, 0, 10), 9, 1, 9), 7), 6, (((1, 10, 0, 10), 9, 1, 9), 8, (1, 10, 0, 10), 8), 6), 5, ((((1, 10, 0, 10), 9, 1, 9), 8, (1, 10, 0, 10), 8), 7, ((1, 10, 0, 10), 9, 1, 9), 7), 5), 8: (((((((1, 10, 0, 10), 9, 1, 9), 8, (1, 10, 0, 10), 8), 7, ((1, 10, 0, 10), 9, 1, 9), 7), 6, (((1, 10, 0, 10), 9, 1, 9), 8, (1, 10, 0, 10), 8), 6), 5, ((((1, 10, 0, 10), 9, 1, 9), 8, (1, 10, 0, 10), 8), 7, ((1, 10, 0, 10), 9, 1, 9), 7), 5), 4, (((((1, 10, 0, 10), 9, 1, 9), 8, (1, 10, 0, 10), 8), 7, ((1, 10, 0, 10), 9, 1, 9), 7), 6, (((1, 10, 0, 10), 9, 1, 9), 8, (1, 10, 0, 10), 8), 6), 4), 9: ((((((((1, 10, 0, 10), 9, 1, 9), 8, (1, 10, 0, 10), 8), 7, ((1, 10, 0, 10), 9, 1, 9), 7), 6, (((1, 10, 0, 10), 9, 1, 9), 8, (1, 10, 0, 10), 8), 6), 5, ((((1, 10, 0, 10), 9, 1, 9), 8, (1, 10, 0, 10), 8), 7, ((1, 10, 0, 10), 9, 1, 9), 7), 5), 4, (((((1, 10, 0, 10), 9, 1, 9), 8, (1, 10, 0, 10), 8), 7, ((1, 10, 0, 10), 9, 1, 9), 7), 6, (((1, 10, 0, 10), 9, 1, 9), 8, (1, 10, 0, 10), 8), 6), 4), 3, ((((((1, 10, 0, 10), 9, 1, 9), 8, (1, 10, 0, 10), 8), 7, ((1, 10, 0, 10), 9, 1, 9), 7), 6, (((1, 10, 0, 10), 9, 1, 9), 8, (1, 10, 0, 10), 8), 6), 5, ((((1, 10, 0, 10), 9, 1, 9), 8, (1, 10, 0, 10), 8), 7, ((1, 10, 0, 10), 9, 1, 9), 7), 5), 3), 10: (((((((((1, 10, 0, 10), 9, 1, 9), 8, (1, 10, 0, 10), 8), 7, ((1, 10, 0, 10), 9, 1, 9), 7), 6, (((1, 10, 0, 10), 9, 1, 9), 8, (1, 10, 0, 10), 8), 6), 5, ((((1, 10, 0, 10), 9, 1, 9), 8, (1, 10, 0, 10), 8), 7, ((1, 10, 0, 10), 9, 1, 9), 7), 5), 4, (((((1, 10, 0, 10), 9, 1, 9), 8, (1, 10, 0, 10), 8), 7, ((1, 10, 0, 10), 9, 1, 9), 7), 6, (((1, 10, 0, 10), 9, 1, 9), 8, (1, 10, 0, 10), 8), 6), 4), 3, ((((((1, 10, 0, 10), 9, 1, 9), 8, (1, 10, 0, 10), 8), 7, ((1, 10, 0, 10), 9, 1, 9), 7), 6, (((1, 10, 0, 10), 9, 1, 9), 8, (1, 10, 0, 10), 8), 6), 5, ((((1, 10, 0, 10), 9, 1, 9), 8, (1, 10, 0, 10), 8), 7, ((1, 10, 0, 10), 9, 1, 9), 7), 5), 3), 2, (((((((1, 10, 0, 10), 9, 1, 9), 8, (1, 10, 0, 10), 8), 7, ((1, 10, 0, 10), 9, 1, 9), 7), 6, (((1, 10, 0, 10), 9, 1, 9), 8, (1, 10, 0, 10), 8), 6), 5, ((((1, 10, 0, 10), 9, 1, 9), 8, (1, 10, 0, 10), 8), 7, ((1, 10, 0, 10), 9, 1, 9), 7), 5), 4, (((((1, 10, 0, 10), 9, 1, 9), 8, (1, 10, 0, 10), 8), 7, ((1, 10, 0, 10), 9, 1, 9), 7), 6, (((1, 10, 0, 10), 9, 1, 9), 8, (1, 10, 0, 10), 8), 6), 4), 2)}\n"
     ]
    }
   ],
   "source": [
    "def fibonacci_rec_pure_memorized_cnt(n: int, cnt: int, memo: dict) -> (int, int):\n",
    "    cnt += 1\n",
    "    if n in memo:\n",
    "        return memo[n], cnt\n",
    "    else:\n",
    "        memo[n] = n if n <= 1 else fibonacci_rec_pure_memorized_cnt(n - 1, cnt, memo) + fibonacci_rec_pure_memorized_cnt(n - 2, cnt, memo)\n",
    "        return memo[n], cnt\n",
    "    \n",
    "fib_dict = {}\n",
    "\n",
    "print(\"First computation (NOT memoized, fibonacci number 10)\")\n",
    "print(\"Dict before:\", fib_dict)\n",
    "print(fibonacci_rec_pure_memorized_cnt(10, 0, fib_dict))\n",
    "print(\"Dict after:\", fib_dict)"
   ]
  },
  {
   "cell_type": "code",
   "execution_count": 16,
   "metadata": {},
   "outputs": [
    {
     "name": "stdout",
     "output_type": "stream",
     "text": [
      "First computation (NOT memoized, fibonacci number 10)\n",
      "Dict before: {}\n",
      "55\n",
      "Dict after: {1: 1, 0: 0, 2: 1, 3: 2, 4: 3, 5: 5, 6: 8, 7: 13, 8: 21, 9: 34, 10: 55}\n",
      "Second computation (memoized, fibonacci number 10)\n",
      "Dict before: {1: 1, 0: 0, 2: 1, 3: 2, 4: 3, 5: 5, 6: 8, 7: 13, 8: 21, 9: 34, 10: 55}\n",
      "55\n",
      "Dict after: {1: 1, 0: 0, 2: 1, 3: 2, 4: 3, 5: 5, 6: 8, 7: 13, 8: 21, 9: 34, 10: 55}\n"
     ]
    }
   ],
   "source": [
    "def fibonacci_rec_memorize(n: int, memo: dict) -> int:\n",
    "    if n in memo:\n",
    "        return memo[n]\n",
    "    else:\n",
    "        memo[n] = n if n <= 1 else fibonacci_rec_memorize(n - 1, memo) + fibonacci_rec_memorize(n - 2, memo)\n",
    "        return memo[n]\n",
    "    \n",
    "fib_dict = {}\n",
    "\n",
    "print(\"First computation (NOT memoized, fibonacci number 10)\")\n",
    "print(\"Dict before:\", fib_dict)\n",
    "print(fibonacci_rec_memorize(10, fib_dict))\n",
    "print(\"Dict after:\", fib_dict)\n",
    "\n",
    "print(\"Second computation (memoized, fibonacci number 10)\")\n",
    "print(\"Dict before:\", fib_dict)\n",
    "print(fibonacci_rec_memorize(10, fib_dict))\n",
    "print(\"Dict after:\", fib_dict)"
   ]
  },
  {
   "cell_type": "code",
   "execution_count": 17,
   "metadata": {},
   "outputs": [
    {
     "name": "stdout",
     "output_type": "stream",
     "text": [
      "(((((((((1, 0, 0, 0), 0, 1, 0), 0, (1, 0, 0, 0), 0), 0, ((1, 0, 0, 0), 0, 1, 0), 0), 0, (((1, 0, 0, 0), 0, 1, 0), 0, (1, 0, 0, 0), 0), 0), 0, ((((1, 0, 0, 0), 0, 1, 0), 0, (1, 0, 0, 0), 0), 0, ((1, 0, 0, 0), 0, 1, 0), 0), 0), 0, (((((1, 0, 0, 0), 0, 1, 0), 0, (1, 0, 0, 0), 0), 0, ((1, 0, 0, 0), 0, 1, 0), 0), 0, (((1, 0, 0, 0), 0, 1, 0), 0, (1, 0, 0, 0), 0), 0), 0), 0, ((((((1, 0, 0, 0), 0, 1, 0), 0, (1, 0, 0, 0), 0), 0, ((1, 0, 0, 0), 0, 1, 0), 0), 0, (((1, 0, 0, 0), 0, 1, 0), 0, (1, 0, 0, 0), 0), 0), 0, ((((1, 0, 0, 0), 0, 1, 0), 0, (1, 0, 0, 0), 0), 0, ((1, 0, 0, 0), 0, 1, 0), 0), 0), 0), 0, (((((((1, 0, 0, 0), 0, 1, 0), 0, (1, 0, 0, 0), 0), 0, ((1, 0, 0, 0), 0, 1, 0), 0), 0, (((1, 0, 0, 0), 0, 1, 0), 0, (1, 0, 0, 0), 0), 0), 0, ((((1, 0, 0, 0), 0, 1, 0), 0, (1, 0, 0, 0), 0), 0, ((1, 0, 0, 0), 0, 1, 0), 0), 0), 0, (((((1, 0, 0, 0), 0, 1, 0), 0, (1, 0, 0, 0), 0), 0, ((1, 0, 0, 0), 0, 1, 0), 0), 0, (((1, 0, 0, 0), 0, 1, 0), 0, (1, 0, 0, 0), 0), 0), 0), 0) -1\n"
     ]
    }
   ],
   "source": [
    "def fibonacci_rec_pure_memorized_cnt_2(n: int, cnt: int, memo: dict) -> (int, int):\n",
    "    if n in memo:\n",
    "        return memo[n], cnt\n",
    "    else:\n",
    "        memo[n] = n if n <= 1 else fibonacci_rec_pure_memorized_cnt_2(n - 1, cnt, memo) + fibonacci_rec_pure_memorized_cnt_2(n - 2, cnt, memo)\n",
    "        return memo[n], cnt\n",
    "    \n",
    "fib_dict = {}\n",
    "    \n",
    "result, cnt = fibonacci_rec_pure_memorized_cnt_2(10, 0, fib_dict)\n",
    "\n",
    "print(result, (cnt * 2) - 1)"
   ]
  },
  {
   "cell_type": "markdown",
   "metadata": {},
   "source": [
    "### 2.2 Aufgaben mit Dekorator\n",
    "\n",
    "#### 2.2.1:\n",
    "\n",
    "Für die in Aufgabe 3 «von Hand» gebaute Lösung gibt es in der Python Bibliothek im Modul functools (jenes, das auch die reduce-Funktion enthält) eine bereits fertige Lösung, die als Dekorator mit einer einfachen Annotation unmittelbar vor der entsprechenden Funktion genutzt werden kann:\n",
    "\n",
    "```python\n",
    "@functools.cache\n",
    "def fibonacci_rec(n: int) -> int:\n",
    "    return n if n <= 1 else fibonacci_rec(n - 1) + fibonacci_rec(n - 2)\n",
    "```\n",
    "\n",
    "Probiere die so dekorierte Fibonacci-Funktion aus und beobachte die Laufzeit bei zunehmendem n:"
   ]
  },
  {
   "cell_type": "code",
   "execution_count": 18,
   "metadata": {},
   "outputs": [
    {
     "name": "stdout",
     "output_type": "stream",
     "text": [
      "Result:  43466557686937456435688527675040625802564660517371780402481729089536555417949051890403879840079255169295922593080322634775209689623239873322471161642996440906533187938298969649928516003704476137795166849228875\n",
      "Time: 0.0014979839324951172\n",
      "Result:  43466557686937456435688527675040625802564660517371780402481729089536555417949051890403879840079255169295922593080322634775209689623239873322471161642996440906533187938298969649928516003704476137795166849228875\n",
      "Time: 0.0\n"
     ]
    }
   ],
   "source": [
    "import functools\n",
    "\n",
    "@functools.cache\n",
    "def cached_fib_py(n: int) -> int:\n",
    "    if n <= 1:\n",
    "        return n\n",
    "    else:\n",
    "        return cached_fib_py(n - 1) + cached_fib_py(n - 2)\n",
    "    \n",
    "start = time.time()\n",
    "result = cached_fib_py(1000)\n",
    "end = time.time()\n",
    "print(\"Result: \", result)\n",
    "print(\"Time:\", end - start)\n",
    "\n",
    "start = time.time()\n",
    "result = cached_fib_py(1000)\n",
    "end = time.time()\n",
    "print(\"Result: \", result)\n",
    "print(\"Time:\", end - start)"
   ]
  },
  {
   "cell_type": "markdown",
   "metadata": {},
   "source": [
    "Weiss wircklich nicht warum alle 0 sekunden brauchen. Habe auch mit mehreren zahlen probiert aber alles braucht 0 bis zum rekursionslimit."
   ]
  },
  {
   "cell_type": "markdown",
   "metadata": {},
   "source": [
    "#### 2.2.2:\n",
    "Programmiere eine eigene Funktion my_cache(func: callable) -> callable so, dass sie zusammen mit der @wrapper syntax benutzt werden kann und für beliebige Funktionen ein Dictionary führt, so wie Du es in Aufgabe 3 spezifisch für die Fibonacci-Funktion programmiert hast."
   ]
  },
  {
   "cell_type": "code",
   "execution_count": 19,
   "metadata": {},
   "outputs": [
    {
     "name": "stdout",
     "output_type": "stream",
     "text": [
      "Result: 43466557686937456435688527675040625802564660517371780402481729089536555417949051890403879840079255169295922593080322634775209689623239873322471161642996440906533187938298969649928516003704476137795166849228875\n",
      "Time: 0.0005009174346923828\n",
      "Result: 43466557686937456435688527675040625802564660517371780402481729089536555417949051890403879840079255169295922593080322634775209689623239873322471161642996440906533187938298969649928516003704476137795166849228875\n",
      "Time: 0.0\n"
     ]
    }
   ],
   "source": [
    "def my_cache(func: callable) -> callable:\n",
    "    cache = {}\n",
    "\n",
    "    def wrapper(*args):\n",
    "        if args in cache:\n",
    "            return cache[args]\n",
    "        else:\n",
    "            cache[args] = func(*args)\n",
    "            return cache[args]\n",
    "        \n",
    "    return wrapper\n",
    "\n",
    "@my_cache\n",
    "def cached_fib(n: int) -> int:\n",
    "    if n <= 1:\n",
    "        return n\n",
    "    else:\n",
    "        return cached_fib(n - 1) + cached_fib(n - 2)\n",
    "\n",
    "start = time.time()\n",
    "result = cached_fib(1000)\n",
    "end = time.time()\n",
    "print(\"Result:\", result)\n",
    "print(\"Time:\", end - start)\n",
    "\n",
    "start = time.time()\n",
    "result = cached_fib(1000)\n",
    "end = time.time()\n",
    "print(\"Result:\", result)\n",
    "print(\"Time:\", end - start)"
   ]
  },
  {
   "cell_type": "markdown",
   "metadata": {},
   "source": [
    "### 2.3 Aufgaben mit einem Fibonacci-Zahlen-Generator\n",
    "\n",
    "#### 2.3.1:\n",
    "Um beispielsweise die Summe der ersten n Fibonacci-Zahlen zu berechnen, wird ein Generator für Fibonacci-Zahlen benötigt. Den Generator selbst programmiert man sinnvollerweise eher nicht funktional, sondern mit einer Schleife, die Fibonacci-Zahlen der Reihe nach berechnet und Updates auf interne Variablen macht. Da das ausserhalb des Generators nicht sichtbar ist, kann der immer noch in einem ansonsten pure funktionalen Programm benutzt werden.\n",
    "\n",
    "Wahlweise kann der Iterator selbst nach einem zu Beginn vorgegebenen Limit aufhören weitere Werte zu\n",
    "berechnen, oder der Aufrufer hört auf, Werte abzufragen. Möglich wären also z.B. folgende Benutzungsvarianten:\n",
    "\n",
    "```python\n",
    "def fib_sum_1(n: int) -> int:\n",
    "    sum_ = 0\n",
    "    for i, f in enumerate(fibonacci_generator()):\n",
    "        sum_ += f\n",
    "        if i == n:\n",
    "            break\n",
    "    return sum_\n",
    "\n",
    "def fib_sum_2(n: int) -> int:\n",
    "    return sum(fibonacci_generator(n))\n",
    "```\n",
    "\n",
    "Programmiere einen solchen fibonacci_generator und teste ihn wie oben gezeigt:"
   ]
  },
  {
   "cell_type": "code",
   "execution_count": 20,
   "metadata": {},
   "outputs": [
    {
     "name": "stdout",
     "output_type": "stream",
     "text": [
      "Result: 232\n",
      "Time: 0.0\n"
     ]
    }
   ],
   "source": [
    "def fibonacci_generator(limit: int = None) -> list:\n",
    "    if limit is None:\n",
    "        return [0, 1]\n",
    "    a, b = 0, 1\n",
    "    while limit is None or a < limit:\n",
    "        yield a\n",
    "        a, b = b, a + b\n",
    "\n",
    "def fib_sum(limit: int = None) -> int:\n",
    "    '''\n",
    "    limit: int; optional (default: None)\n",
    "        iteration limit of the generator, if None, the generator returns 0.\n",
    "    '''\n",
    "    return sum(fibonacci_generator(limit))\n",
    "\n",
    "start = time.time()\n",
    "result = fib_sum(100)\n",
    "end = time.time()\n",
    "print(\"Result:\", result)\n",
    "print(\"Time:\", end - start)"
   ]
  },
  {
   "cell_type": "markdown",
   "metadata": {},
   "source": [
    "#### 2.3.2:\n",
    "Programmiere eine Funktion squares_of_even_fibonacci(n), welche die Quadrate aller geraden Fibonacci-Zahlen bis n aufsummiert. Verwende dabei den Generator, den Du für Aufgabe 7 programmiert hast."
   ]
  },
  {
   "cell_type": "code",
   "execution_count": 21,
   "metadata": {},
   "outputs": [
    {
     "name": "stdout",
     "output_type": "stream",
     "text": [
      "Result: 1224\n",
      "Time: 0.0\n"
     ]
    }
   ],
   "source": [
    "def squares_of_even_fib(n):\n",
    "    result = 0\n",
    "    for i in fibonacci_generator(n):\n",
    "        if i % 2 == 0:\n",
    "            result += i ** 2\n",
    "    return result\n",
    "\n",
    "start = time.time()\n",
    "result = squares_of_even_fib(100)\n",
    "end = time.time()\n",
    "print(\"Result:\", result)\n",
    "print(\"Time:\", end - start)"
   ]
  },
  {
   "cell_type": "markdown",
   "metadata": {},
   "source": [
    "### 2.4 Fibonacci-Funktion anders implementiert\n",
    "Bei imperativer Programmierung drängt sich die Berechnung von Fibonacci-Zahlen mit einer Schleife auf, in der man zwei Variablen immer wieder aktualisiert, welche die Werte zweier aufeinanderfolgender Fibonacci-Zahlen enthalten. Deren Summe ist dann gerade die nächste zu berechnende Fibonacci-Zahl. Mit dem Simultaneous Assignment von Python lässt sich das kompakt formulieren. Sei beispielsweise cur die n-te (bereits berechnete) Fibonacci-Zahl und prev diejenige gerade davor. Dann führt folgende Zuweisung zu einem konsistenten Update der drei Variablen:\n",
    "\n",
    "```python\n",
    "cur, prev, n = cur + prev, cur, n + 1\n",
    "```\n",
    "\n",
    "In der Funktionalen Programmierung muss man derartige Schleifen durch Rekursion ersetzen. Statt einen neuen Schle\n",
    "ifendurchlauf zu starten, muss man die Funktion erneut aufrufen – mit geeignet modifizierten Parametern. Eine solche Funktion hat dann mehrere Parameter, weil die Werte der sonst in der Schleife verwendeten Variablen nur so weitergegeben werden können.\n",
    "\n",
    "Vorteil dieses Ansatzes gegenüber der direkten Umsetzung der rekursiven Definition ist, dass die n-te Fibonacci-Zahl mit Rekursionstiefe n berechnet werden kann.\n",
    "\n",
    "#### 2.4.1:\n",
    "Programmiere eine Funktion nach dieser Idee. Findest Du eine Lösung, die mit 3 Parametern auskommt?"
   ]
  },
  {
   "cell_type": "code",
   "execution_count": 22,
   "metadata": {},
   "outputs": [
    {
     "name": "stdout",
     "output_type": "stream",
     "text": [
      "55 11\n"
     ]
    }
   ],
   "source": [
    "def shallow_fib_rec(n: int, cur: int = 1, prev: int = 0) -> int:\n",
    "    '''\n",
    "    Shallow Recursive Fibonacci\n",
    "    -----\n",
    "    Calculates the nth fibonacci number using recursion, can be modified to start at a higher fibonacci number by changing the default values of cur and prev.\n",
    "    \n",
    "    inputs:\n",
    "    n: int\n",
    "        Number of iterations\n",
    "    cur: int (default: 1)\n",
    "        Current number\n",
    "    prev: int (default: 0)\n",
    "        Previous number\n",
    "    '''\n",
    "    # For testng purposes ill count using a global variable\n",
    "    global counter\n",
    "    counter += 1\n",
    "    if n == 0:\n",
    "        return prev\n",
    "    else:\n",
    "        return shallow_fib_rec(n - 1, cur + prev, cur)\n",
    "    \n",
    "counter = 0\n",
    "\n",
    "print(shallow_fib_rec(10), counter)"
   ]
  },
  {
   "cell_type": "markdown",
   "metadata": {},
   "source": [
    "#### 2.4.2:\n",
    "\n",
    "Mit welchen der bisherigen Programme kannst Du auch noch die 1000. Fibonacci-Zahl berechnen? Woran scheitert es, wenn es nicht geht?\n",
    "\n",
    "Antwort: <br>\n",
    "Eigentlich alle, aber mit sehr grossen fibonacci zahlen kann man pythons rekurssionslimit erreichen und dann gibts ein error."
   ]
  },
  {
   "cell_type": "markdown",
   "metadata": {},
   "source": [
    "#### 2.4.3:\n",
    "\n",
    "```python\n",
    "def recur(*args, **kwargs) -> (callable, any):\n",
    "    return recur, args, kwargs\n",
    "\n",
    "def loop(f: callable):\n",
    "    a = f()\n",
    "    while isinstance(a, tuple) and a[0] is recur:\n",
    "        a = f(*a[1], **a[2])\n",
    "    return a\n",
    "```\n",
    "\n",
    "Diese beiden Funktionen sind selbst nicht pure, könnten aber z.B. als Teil einer funktionalen Sprache angeboten werden. Kannst Du diese Funktionen benutzen, um eine pure Fibonacci-Funktion zu programmieren, die auch noch die 1000. Fibonacci-Zahl berechnen kann?"
   ]
  },
  {
   "cell_type": "code",
   "execution_count": 23,
   "metadata": {},
   "outputs": [
    {
     "name": "stdout",
     "output_type": "stream",
     "text": [
      "(<function recur at 0x00000208CD9ED9E0>, (<function shallow_fib_loop at 0x00000208CE0399E0>, 9, 1, 1), {}) 1\n"
     ]
    }
   ],
   "source": [
    "def recur(*args, **kwargs) -> (callable, any):\n",
    "    return recur, args, kwargs\n",
    "\n",
    "def loop(f: callable):\n",
    "    a = f()\n",
    "    while isinstance(a, tuple) and a[0] is recur:\n",
    "        a = f(*a[1], **a[2])\n",
    "    return a\n",
    "\n",
    "def shallow_fib_loop(n: int, cur: int = 1, prev: int = 0) -> int:\n",
    "    # For testng purposes ill count using a global variable\n",
    "    global counter\n",
    "    counter += 1\n",
    "    if n == 0:\n",
    "        return prev\n",
    "    else:\n",
    "        return recur(shallow_fib_loop, n - 1, cur + prev, cur)\n",
    "    \n",
    "counter = 0\n",
    "result_func, *result_args = loop(lambda: (shallow_fib_loop, 10, 1, 0))\n",
    "fib_1000 = result_func(*result_args)\n",
    "\n",
    "print(fib_1000, counter)"
   ]
  },
  {
   "cell_type": "markdown",
   "metadata": {},
   "source": [
    "Hatte kein glück mit dieser aufgabe, habe es nicht geschafft die funktion zu implementieren, ^ das ist wie weit ich gekommen bin. Verstehe nicht wie zum die funktion zu loopen."
   ]
  },
  {
   "cell_type": "markdown",
   "metadata": {},
   "source": [
    "## Teil 3: Funktionales Game of Life\n",
    "\n",
    "Hier geht es um 'Game of Life' implementieren mit funktionale Programmierung. Ich folge das dokument ['Functional Game of Life'](https://spaces.technik.fhnw.ch/storage/uploads/mml/2022/04/03-Functional-Game-of-Life-1649159948.pdf)."
   ]
  },
  {
   "cell_type": "markdown",
   "metadata": {},
   "source": [
    "### 3.1: \n",
    "Programmiere eine Regel-Funktion, die nach der ursprünglichen Regel von Conway für eine bestimmte Zelle entscheidet, ob diese in der nächsten Generation alive ist. Vielleicht möchtest Du später noch alternative Regeln als Varianten programmieren. Die entsprechenden Regel-Funktionen müssen alle den gleichen Typ haben, um gegenseitig austauschbar zu sein. Kannst Du für Deine Regel-Funktion einen solchen Typ angeben?"
   ]
  },
  {
   "cell_type": "code",
   "execution_count": 102,
   "metadata": {},
   "outputs": [
    {
     "name": "stdout",
     "output_type": "stream",
     "text": [
      "<function cell_check.<locals>.<lambda> at 0x00000208CE12E520>\n"
     ]
    }
   ],
   "source": [
    "from typing import Callable\n",
    "\n",
    "Row_3 = [bool, bool, bool]\n",
    "Grid_3x3 = [Row_3, Row_3, Row_3]\n",
    "Rule = Callable[[Grid_3x3], bool]\n",
    "\n",
    "def cell_check(rule: Rule, grid: Grid_3x3 = ((False, False, False), (False, False, False), (False, False, False)), cell_alive: bool = None, x: int = None, y: int = None) -> Rule:\n",
    "    '''\n",
    "    Determines if a cell should be alive or dead in the next generation.\n",
    "\n",
    "    inputs:\n",
    "    rule: Rule\n",
    "        The rule to be applied\n",
    "    grid: Grid_3x3\n",
    "        3x3 grid surrounding the cell (if None, x and y must be specified)\n",
    "    x: int\n",
    "        The x coordinate of the cell (if None, grid must be specified)\n",
    "    y: int\n",
    "        The y coordinate of the cell (if None, grid must be specified)\n",
    "\n",
    "    returns: Rule\n",
    "        The rule to be applied to the cell\n",
    "    '''\n",
    "    if grid is None:\n",
    "        return lambda grid: rule([row[x - 1:x + 2] for row in grid[y - 1:y + 2]], cell_alive)\n",
    "    else:\n",
    "        return lambda grid: rule(grid)\n",
    "\n",
    "    # if grid is None:\n",
    "    #     return rule([row[x - 1:x + 2] for row in grid[y - 1:y + 2]], cell_alive)\n",
    "    # else:\n",
    "    #     return rule(grid)\n",
    "    \n",
    "\n",
    "def cell_check_rule(neighbourhood: Grid_3x3 = ((False, False, False), (False, False, False), (False, False, False))) -> bool:\n",
    "    '''\n",
    "    Determines if a cell should be alive or dead in the next generation.\n",
    "\n",
    "    inputs:\n",
    "    neighbourhood: Grid_3x3\n",
    "        The neighbourhood around the cell\n",
    "\n",
    "    returns: bool\n",
    "        True if the cell should be alive, False if it should be dead\n",
    "    '''\n",
    "    if neighbourhood is None:\n",
    "        raise ValueError(\"Neighbourhood must be specified\")\n",
    "    \n",
    "    cell_alive = neighbourhood[1][1]\n",
    "    live_neighbours = sum(map(sum, neighbourhood)) - cell_alive # subtract cell_alive to not count the cell itself if it is alive\n",
    "\n",
    "    if cell_alive:\n",
    "        return live_neighbours in [2, 3]\n",
    "    else:\n",
    "        return live_neighbours == 3\n",
    "    \n",
    "\n",
    "test_neighbourhood = ((True, False, False), (False, True, False), (False, True, True))\n",
    "result = cell_check(cell_check_rule)\n",
    "\n",
    "print(result)"
   ]
  },
  {
   "cell_type": "markdown",
   "metadata": {},
   "source": [
    "### 3.2:\n",
    "\n",
    "Programmiere eine Funktion vom Typ Step_Function, die aus einem Grid einer Generation ein Grid der folgenden Generation berechnet."
   ]
  },
  {
   "cell_type": "code",
   "execution_count": 103,
   "metadata": {},
   "outputs": [
    {
     "name": "stdout",
     "output_type": "stream",
     "text": [
      "((False, False, False), (True, True, True), (False, True, True))\n"
     ]
    }
   ],
   "source": [
    "Grid = tuple[tuple[bool, ...], ...]\n",
    "Step_Function = Callable[[Grid], Grid]\n",
    "\n",
    "def step_func(rule: Rule) -> Step_Function:\n",
    "    '''\n",
    "    Returns a step function that calculates the next generation of a grid.\n",
    "\n",
    "    inputs:\n",
    "    rule: Rule\n",
    "        The rule to be applied\n",
    "\n",
    "    returns: Step_Function\n",
    "        The step function\n",
    "    '''\n",
    "    def calc_next_gen(cur_gen: Grid) -> Grid:\n",
    "        rows = len(cur_gen)\n",
    "        cols = len(cur_gen[0])\n",
    "        next_gen = []\n",
    "\n",
    "        for x in range(rows):\n",
    "            next_row = []\n",
    "            for y in range(cols):\n",
    "                neighbourhood = []\n",
    "\n",
    "                for i in range(max(0, x - 1), min(rows, x + 2)):\n",
    "                    neighbourhood_row = []\n",
    "\n",
    "                    for j in range(max(0, y - 1), min(cols, y + 2)):\n",
    "                        neighbourhood_row.append(cur_gen[i][j])\n",
    "\n",
    "                    neighbourhood.append(neighbourhood_row)\n",
    "\n",
    "                next_row.append(rule(tuple(neighbourhood)))\n",
    "\n",
    "            next_gen.append(tuple(next_row))\n",
    "\n",
    "        return tuple(next_gen)\n",
    "    \n",
    "    return calc_next_gen\n",
    "\n",
    "\n",
    "custom_step_func = step_func(cell_check(cell_check_rule))\n",
    "\n",
    "# Test\n",
    "test_grid = ((True, False, False), (False, True, False), (False, True, True))\n",
    "result = custom_step_func(test_grid)\n",
    "\n",
    "print(result)"
   ]
  },
  {
   "cell_type": "markdown",
   "metadata": {},
   "source": [
    "### 3.3:\n",
    "Programmiere einen Generationen-Generator, der eine (theoretisch unendliche) Folge aufeinanderfolgender Generationen eines Game of Life produziert. Der Generator soll mit einem Grid parametrisiert werden, das eine Startsituation darstellt, und mit einer Step_Function."
   ]
  },
  {
   "cell_type": "code",
   "execution_count": 107,
   "metadata": {},
   "outputs": [
    {
     "name": "stdout",
     "output_type": "stream",
     "text": [
      "((True, True, False), (False, True, False), (False, True, True))\n",
      "((True, True, False), (True, False, False), (False, True, True))\n",
      "((True, True, False), (False, False, True), (False, True, False))\n",
      "((False, True, False), (True, False, True), (False, False, False))\n",
      "((False, True, False), (False, True, False), (False, False, False))\n"
     ]
    }
   ],
   "source": [
    "def generation_generator(grid: Grid, step: Step_Function) -> Grid:\n",
    "    '''\n",
    "    Generates the next generation of a grid.\n",
    "\n",
    "    inputs:\n",
    "    grid: Grid\n",
    "        The grid to be processed\n",
    "    step: Step_Function\n",
    "        The step function to be applied to the grid\n",
    "\n",
    "    yields: Grid\n",
    "        The next generation of the grid\n",
    "    '''\n",
    "    cur_gen = grid\n",
    "    while True:\n",
    "        yield cur_gen\n",
    "        cur_gen = step(cur_gen)\n",
    "\n",
    "generator = generation_generator(test_grid, custom_step_func)\n",
    "\n",
    "test_grid = ((True, True, False), (False, True, False), (False, True, True))\n",
    "\n",
    "for i in range(5):\n",
    "    next_gen = next(generator)\n",
    "    print(next_gen)"
   ]
  },
  {
   "cell_type": "markdown",
   "metadata": {},
   "source": [
    "### 3.4:\n",
    "\n",
    "Programmiere eine einfache Ausgabe-Funktion für Grids."
   ]
  },
  {
   "cell_type": "code",
   "execution_count": 108,
   "metadata": {},
   "outputs": [
    {
     "name": "stdout",
     "output_type": "stream",
     "text": [
      "-o-\n",
      "---\n",
      "ooo\n",
      "\n"
     ]
    }
   ],
   "source": [
    "def grid_to_string(grid: Grid) -> str:\n",
    "    \"\"\"\n",
    "    Converts a grid into a string representation.\n",
    "\n",
    "    input:\n",
    "    grid: Grid\n",
    "        The grid to be converted.\n",
    "\n",
    "    return: str\n",
    "        A string representation of the grid with 'o' for alive cells and '-' for dead cells.\n",
    "    \"\"\"\n",
    "    rows = len(grid)\n",
    "    cols = len(grid[0])\n",
    "    grid_str = \"\"\n",
    "\n",
    "    for row in grid:\n",
    "        for cell in row:\n",
    "            if cell:\n",
    "                grid_str += \"o\"\n",
    "            else:\n",
    "                grid_str += \"-\"\n",
    "        grid_str += \"\\n\"\n",
    "\n",
    "    return grid_str\n",
    "\n",
    "test_grid = (\n",
    "    (False, True, False),\n",
    "    (False, False, False),\n",
    "    (True, True, True)\n",
    ")\n",
    "\n",
    "grid_str = grid_to_string(test_grid)\n",
    "print(grid_str)"
   ]
  },
  {
   "cell_type": "code",
   "execution_count": 109,
   "metadata": {},
   "outputs": [
    {
     "name": "stdout",
     "output_type": "stream",
     "text": [
      "--o---o--o\n",
      "oo-----ooo\n",
      "-------o--\n",
      "---o--o-o-\n",
      "-----o-o--\n",
      "---ooooooo\n",
      "------oo--\n",
      "--oo------\n",
      "---------o\n",
      "o----oo---\n",
      "\n"
     ]
    }
   ],
   "source": [
    "import random\n",
    "\n",
    "def init_world_grid(rows: int, cols: int, live_chance: float = 0.3) -> Grid:\n",
    "    \"\"\"\n",
    "    Initializes a grid with the specified number of rows and columns.\n",
    "\n",
    "    inputs:\n",
    "    rows: int\n",
    "        The number of rows.\n",
    "    cols: int\n",
    "        The number of columns.\n",
    "    live_chance: float (default: 0.3)\n",
    "        The chance that a cell is \"spawned\" alive.\n",
    "\n",
    "    return:\n",
    "        The initialized grid.\n",
    "    \"\"\"\n",
    "    grid = []\n",
    "\n",
    "    for i in range(rows):\n",
    "        row = []\n",
    "        for j in range(cols):\n",
    "            row.append(random.random() < live_chance)\n",
    "        grid.append(tuple(row))\n",
    "\n",
    "    return tuple(grid)\n",
    "\n",
    "test_grid = init_world_grid(10, 10, 0.3)\n",
    "\n",
    "print(grid_to_string(test_grid))"
   ]
  },
  {
   "cell_type": "code",
   "execution_count": 110,
   "metadata": {},
   "outputs": [
    {
     "name": "stdout",
     "output_type": "stream",
     "text": [
      "Generation 10:\n",
      "--------------------\n",
      "--------------------\n",
      "---oo----------oo---\n",
      "---oo---oo----o--o--\n",
      "--------oo----------\n",
      "--------------------\n",
      "----------------o---\n",
      "--oooo----------o---\n",
      "--oo-o--------------\n",
      "-o--o-o-------------\n",
      "---------------o----\n",
      "--oo---oo---o-o-----\n",
      "---o------oo---o----\n",
      "----o-----------oo--\n",
      "-----------o--------\n",
      "-----o-----o--------\n",
      "--------------o-----\n",
      "-------ooo---oooooo-\n",
      "--------------oo----\n",
      "--------------------\n",
      "\n"
     ]
    }
   ],
   "source": [
    "### The Game of Life ###\n",
    "import time\n",
    "from IPython.display import clear_output\n",
    "\n",
    "world_grid = init_world_grid(20, 20, 0.3)\n",
    "\n",
    "def cell_check_rule(neighbourhood: Grid_3x3) -> bool:\n",
    "    '''\n",
    "    Determines if a cell should be alive or dead in the next generation.\n",
    "\n",
    "    inputs:\n",
    "    neighbourhood: Grid_3x3\n",
    "        The neighbourhood around the cell\n",
    "\n",
    "    returns: bool\n",
    "        True if the cell should be alive, False if it should be dead\n",
    "    '''\n",
    "    cell_alive = neighbourhood[1][1]\n",
    "    live_neighbours = sum(map(sum, neighbourhood)) - cell_alive # subtract cell_alive to not count the cell itself if it is alive\n",
    "\n",
    "    if cell_alive:\n",
    "        return live_neighbours in [2, 3]\n",
    "    else:\n",
    "        return live_neighbours == 3\n",
    "\n",
    "step_function = step_func(cell_check(cell_check_rule))\n",
    "generator = generation_generator(world_grid, step_function)\n",
    "\n",
    "for i in range(10):\n",
    "    clear_output(wait=True)\n",
    "    print(f\"Generation {i + 1}:\")\n",
    "    print(grid_to_string(next(generator)))\n",
    "    time.sleep(2.5)"
   ]
  },
  {
   "cell_type": "markdown",
   "metadata": {},
   "source": [
    "### 3.5:\n",
    "\n",
    "Programmiere eine oder mehrere weitere Varianten von Regel-Funktionen. Kannst Du die einfach mit den anderen vorhandenen Funktionen kombinieren?\n",
    "\n",
    "Ja, das geht, mann muss die neue regel nach der gleiche struktur wie die cell_check() funktion nimmt."
   ]
  },
  {
   "cell_type": "code",
   "execution_count": 111,
   "metadata": {},
   "outputs": [
    {
     "name": "stdout",
     "output_type": "stream",
     "text": [
      "Generation 10:\n",
      "ooo-o-o----o--oo----\n",
      "ooo--o---oo-o-oo----\n",
      "---o--o-o-oo--o-o-oo\n",
      "o--oo-o---o--ooo--oo\n",
      "--o--o-oo--oo-o-ooo-\n",
      "oo---ooo---oo--o-o--\n",
      "oo-o------oo--oo---o\n",
      "-o--o-o-o-o-----oo-o\n",
      "-----oooo--ooo--oo--\n",
      "-o--o-------ooo--o--\n",
      "o---oo------o----o--\n",
      "o---o-o--oooo-oo---o\n",
      "---ooo--o-oo-oo-ooo-\n",
      "---oo-oo-o--o--oo---\n",
      "---o-o-o--oo--------\n",
      "o----oo-o-oo--ooo-o-\n",
      "oo-oo-----o-----oo--\n",
      "--o--o----o-o--oo---\n",
      "oooooo-o--oo-------o\n",
      "--oo---oo-o-oo-oo--o\n",
      "\n"
     ]
    }
   ],
   "source": [
    "import random\n",
    "\n",
    "def chaos_rule(neighbourhood: Grid_3x3) -> bool:\n",
    "    '''\n",
    "    Custom rule for the Game of Life.\n",
    "\n",
    "    inputs:\n",
    "    neighbourhood: Grid_3x3\n",
    "        The neighbourhood around the cell\n",
    "\n",
    "    returns: bool\n",
    "        True if the cell should be alive, False if it should be dead\n",
    "    '''\n",
    "    cell_alive = neighbourhood[1][1]\n",
    "    \n",
    "    if cell_alive:\n",
    "        return random.random() < 0.7\n",
    "    else:\n",
    "        return random.random() < 0.2\n",
    "    \n",
    "world_grid = init_world_grid(20, 20, 0.3)    \n",
    "step_function = step_func(cell_check(chaos_rule, test_neighbourhood))\n",
    "generator = generation_generator(world_grid, step_function)\n",
    "\n",
    "for i in range(10):\n",
    "    clear_output(wait=True)\n",
    "    print(f\"Generation {i + 1}:\")\n",
    "    print(grid_to_string(next(generator)))\n",
    "    time.sleep(2.5)"
   ]
  },
  {
   "cell_type": "markdown",
   "metadata": {},
   "source": [
    "Mit dieser regel steight die population langsam, da es mehr chance gibt das eine zelle weiter lebt als es sterbt, und es kein einfluss gibt von der anzahl der nachbarn."
   ]
  },
  {
   "cell_type": "code",
   "execution_count": 116,
   "metadata": {},
   "outputs": [
    {
     "name": "stdout",
     "output_type": "stream",
     "text": [
      "Generation 10:\n",
      "------------------oo\n",
      "--------o-----oo-o--\n",
      "--------ooo--o-o----\n",
      "------o-ooo-o--o----\n",
      "----oo------o----o--\n",
      "----oo------ooo-----\n",
      "--------------------\n",
      "-------o----o-----oo\n",
      "-----ooo-----o------\n",
      "ooo-oo-o-----o-----o\n",
      "ooo-o-o-------o----o\n",
      "--------------------\n",
      "--------------------\n",
      "------oo-------oo---\n",
      "----o-oo-------o-o--\n",
      "----o-oo--o--o--o-o-\n",
      "o--o-----o----o-o--o\n",
      "---o----o-----o--o-o\n",
      "----o---o-----------\n",
      "----o----o--ooo--o--\n",
      "\n"
     ]
    }
   ],
   "source": [
    "def couples_rule(neighbourhood: Grid_3x3) -> bool:\n",
    "    '''\n",
    "    Custom rule for the Game of Life.\n",
    "\n",
    "    inputs:\n",
    "    neighbourhood: Grid_3x3\n",
    "        The neighbourhood around the cell\n",
    "\n",
    "    returns: bool\n",
    "        True if the cell should be alive, False if it should be dead\n",
    "    '''\n",
    "    cell_alive = neighbourhood[1][1]\n",
    "    live_neighbours = sum(map(sum, neighbourhood)) - cell_alive # subtract cell_alive to not count the cell itself if it is alive\n",
    "\n",
    "    if cell_alive:\n",
    "        return live_neighbours in [1]\n",
    "    else:\n",
    "        return live_neighbours == 2\n",
    "    \n",
    "world_grid = init_world_grid(20, 20, 0.1)\n",
    "    \n",
    "step_function = step_func(cell_check(couples_rule, test_neighbourhood))\n",
    "generator = generation_generator(world_grid, step_function)\n",
    "\n",
    "for i in range(10):\n",
    "    clear_output(wait=True)\n",
    "    print(f\"Generation {i + 1}:\")\n",
    "    print(grid_to_string(next(generator)))\n",
    "    time.sleep(2.5)"
   ]
  },
  {
   "cell_type": "markdown",
   "metadata": {},
   "source": [
    "### 3.6:\n",
    "\n",
    "Kannst Du auch eine oder mehrere alternative Welten programmieren, wie unter b) im 2. Abschnitt «Teilaufgaben des Programms» oben diskutiert? Lassen sich alle diese Welten mit allen Deinen Regel-Funktionen kombinieren?\n",
    "\n",
    "Ja aber ich muste mein code anpassen, wenn es eine unbegrenzte welt ist, muss ich den generator anpassen wenn es cells gibt die an der grenze geboren sind. Für die andere tote wand welt musste ich meine step funktion anpassen das es alle cells am rand tote nachbaren gibt."
   ]
  },
  {
   "cell_type": "markdown",
   "metadata": {},
   "source": [
    "## Teil 4: Object Orientiertes Programmieren\n",
    "\n",
    "Ich mache in diesem teil keine Einführungs Aufgaben da ich schon in der hochschule OOP gelernt habe und mich mit OOP sicher fühle."
   ]
  },
  {
   "cell_type": "markdown",
   "metadata": {},
   "source": [
    "### 4.1 Messdatenanalyse:\n",
    "\n",
    "1. Sensors measure a float value from time to time\n",
    "2. Control center recieves data from the sensors, calculates aggregated values like max, avg, min and maximum of all previously received values for each sensor\n",
    "3. Displays, optains aggregated data and most recent data from a sensor by the control center\n",
    "4. The control center informs displays when the value from a sensor changes, to update the displays\n",
    "\n",
    "##### Players in the system:\n",
    "* Temperature sensor\n",
    "  * Responsible for repeatedly measuring, supplying or generating a measured value\n",
    "* Control unit (central)\n",
    "  * Responsible for reciving and aggregating data from sensors, should be able to be queried for aggregated data from other objects. Should also be able to inform other objects when new data is available.\n",
    "* Displays\n",
    "  * Responsible for requesting current measurement, average, minimum and maximum values from the control unit and displaying them in some way."
   ]
  },
  {
   "cell_type": "code",
   "execution_count": 128,
   "metadata": {},
   "outputs": [],
   "source": [
    "class SensorID:\n",
    "    def __init__(self, id: str):\n",
    "        self.id = id\n",
    "\n",
    "    def __repr__(self):\n",
    "        return f\"SensorID({self.id})\"\n",
    "    \n",
    "class Display:\n",
    "    def __init__(self, name):\n",
    "        self.name = name\n",
    "        self.__data_dict = {} # {cur, avg, min, max}\n",
    "\n",
    "    def __repr__(self):\n",
    "        return f\"Display({self.name})\"\n",
    "    \n",
    "    def update(self, x_cur: float, x_avg: float, x_min: float, x_max: float):\n",
    "        self.__data_dict[\"cur\"] = x_cur\n",
    "        self.__data_dict[\"avg\"] = x_avg\n",
    "        self.__data_dict[\"min\"] = x_min\n",
    "        self.__data_dict[\"max\"] = x_max\n",
    "        pass\n",
    "\n",
    "    def display_data(self):\n",
    "        print(f\"Display {self.name}:\")\n",
    "        for k, v in self.__data_dict.items():\n",
    "            print(f\"{k}: {v}\")\n",
    "\n",
    "class Central:\n",
    "    class _SensorData:\n",
    "        def __init__(self):\n",
    "            self.cur, self.min, self.max, self.avg = None, None, None, None\n",
    "            self.n = 0\n",
    "            self.__displays = []\n",
    "            # self.data = data\n",
    "        \n",
    "        def add_measurement(self, x: float):\n",
    "            if self.n > 0:\n",
    "                self.cur, self.min, self.max = x, min(self.min, x), max(self.max, x)\n",
    "                self.n += 1\n",
    "                self.avg = self.avg + (x - self.avg) / self.n\n",
    "            else:\n",
    "                self.cur, self.min, self.max, self.avg, self.n = x, x, x, x, 1\n",
    "\n",
    "            for d in self.__displays:\n",
    "                d.update(self.cur, self.avg, self.min, self.max)\n",
    "\n",
    "        def add_display(self, display: Display):\n",
    "            if display not in self.__displays:\n",
    "                self.__displays.append(display)\n",
    "\n",
    "    def __init__(self, name):\n",
    "        self.name = name\n",
    "        self.__sensor_dict = dict() # {sensor_id: _SensorData}        \n",
    "\n",
    "    def __repr__(self):\n",
    "        return f\"Central({self.name})\"\n",
    "\n",
    "    def add_measurement(self, sensor_id: SensorID, x: float):\n",
    "        try:\n",
    "            sd = self.__sensor_dict[sensor_id]\n",
    "        except KeyError:\n",
    "            sd = Central._SensorData()\n",
    "            self.__sensor_dict[sensor_id] = sd\n",
    "        sd.add_measurement(x)\n",
    "\n",
    "    def add_display(self, sensor_id: SensorID, display: Display):\n",
    "        try:\n",
    "            sd = self.__sensor_dict[sensor_id]\n",
    "        except KeyError:\n",
    "            sd = Central._SensorData()\n",
    "            self.__sensor_dict[sensor_id] = sd\n",
    "        sd.add_display(display)\n",
    "\n",
    "    def get_cur(self, sensor_id: SensorID) -> float:\n",
    "        return self.__sensor_dict[sensor_id].cur\n",
    "    \n",
    "    def get_min(self, sensor_id: SensorID) -> float:\n",
    "        return self.__sensor_dict[sensor_id].min\n",
    "    \n",
    "    def get_max(self, sensor_id: SensorID) -> float:\n",
    "        return self.__sensor_dict[sensor_id].max\n",
    "    \n",
    "    def get_avg(self, sensor_id: SensorID) -> float:\n",
    "        return self.__sensor_dict[sensor_id].avg"
   ]
  },
  {
   "cell_type": "code",
   "execution_count": 130,
   "metadata": {},
   "outputs": [
    {
     "name": "stdout",
     "output_type": "stream",
     "text": [
      "Display Display 1:\n",
      "cur: 25\n",
      "avg: 21.25\n",
      "min: 10\n",
      "max: 30\n"
     ]
    }
   ],
   "source": [
    "central_unit = Central(\"Central Unit\")\n",
    "\n",
    "sensor_1 = SensorID(\"Sensor 1\")\n",
    "\n",
    "display_1 = Display(\"Display 1\")\n",
    "\n",
    "central_unit.add_display(sensor_1, display_1)\n",
    "\n",
    "central_unit.add_measurement(sensor_1, 10)\n",
    "central_unit.add_measurement(sensor_1, 20)\n",
    "central_unit.add_measurement(sensor_1, 30)\n",
    "central_unit.add_measurement(sensor_1, 25)\n",
    "\n",
    "display_1.display_data()"
   ]
  },
  {
   "cell_type": "markdown",
   "metadata": {},
   "source": [
    "### 4.2 Die OO-Bank:"
   ]
  },
  {
   "cell_type": "markdown",
   "metadata": {},
   "source": [
    "#### Aufgabe OO-Bank\n",
    "Diese Entwurfs- und Programmieraufgabe soll dir praktische Erfahrungen mit dem objektorientierten An-\n",
    "satz der Software-Entwicklung ermöglichen. Dazu gehört das Erleben der OO-Konzepte Encapsulation ,\n",
    "Information Hiding , Polymorphismus und evtl. Vererbung sowie das Ausprobieren des ganzen Weges von\n",
    "einer Aufgabenstellung bis zu einem ausführbaren Programm.\n",
    "\n",
    "1. Die OO-Bank – Funktionale Spezifikation\n",
    "\n",
    "Inhaltliches Ziel der Aufgabe soll ein kleines Programm sein, dass die Kontoführung einer Bank repräsen-\n",
    "tiert. Die Bank soll dazu nach aussen hin mit einer einfachen Benutzerschnittstelle die folgenden Operati-\n",
    "onen anbieten:^1\n",
    "\n",
    "1. Ein Konto eröffnen\n",
    "Diese Operation eröffnet ein Konto mit einer eindeutigen Kennung (wähle, ob die von aussen oder\n",
    "von der Bank vorgegeben werden soll) und einem Kontotyp (mehr dazu später).\n",
    "2. Bareinzahlung auf ein Konto\n",
    "Damit der Bank überhaupt Geld für Buchungen zugeführt werden kann, wird eine Operation benö-\n",
    "tigt, die ohne Gegenbuchung auf einem anderen Konto einen Saldo erhöhen kann. Dazu dient\n",
    "diese Operation. Sie benötigt lediglich die Angabe der eindeutigen Kennung eines bereits existie-\n",
    "renden Kontos und den einzuzahlenden (positiven) Betrag.\n",
    "3. Eine Buchung von einem Konto zu einem anderen in Auftrag geben\n",
    "Diese Operation stellt einen Auftrag an die Bank dar, Geld von einem auf ein anderes Konto zu\n",
    "übertragen. Belastungs- und Gutschriftkonto werden beide über ihre eindeutige Kennung identifi-\n",
    "ziert. Zusätzlich wird ein Geldbetrag angegeben, der vom Belastungs- auf das Gutschriftkonto\n",
    "übertragen werden soll. Optional kann ein Verwendungszweck angegeben werden, der mit der\n",
    "Buchung gespeichert wird und die spätere Identifikation erleichtert.\n",
    "Die Konten müssen beide aktiv (eröffnet und noch nicht wieder geschlossen) sein. Die Operation\n",
    "kann dann aber immer noch daran scheitern, dass das Belastungskonto nicht genügend Deckung\n",
    "aufweist, was wiederum vom Typ des Kontos abhängen kann.\n",
    "Der Auftraggeber (Aufrufer) muss informiert werden, ob der Auftrag ausgeführt wurde.\n",
    "4. Abfrage eines Kontostandes\n",
    "Jedes aktive Konto hat einen eindeutig definierten Kontostand , der sich unter Angabe der eindeu-\n",
    "tigen Kennung des Kontos abfragen lassen soll.\n",
    "5. Abfrage der letzten Buchungen eines Kontos\n",
    "Für jedes Konto soll nicht nur der aktuelle Kontostand gespeichert werden, sondern auch ein Pro-\n",
    "tokoll der erfolgten Buchungen. Zu jeder Buchung gehören das Gegenkonto (ausser bei Barein-\n",
    "zahlungen) der gebuchte Wert (positiv oder negativ) eine Zeitangabe (reale Zeit oder ein künstli-\n",
    "cher Zeitstempel, der z.B. bei jeder Buchung erhöht wird, so dass sich die Reihenfolge der Einzel-\n",
    "buchungen daraus ergibt) und – falls vorhanden – der Verwendungszweck.\n",
    "Unter Angabe der eindeutigen Kennung eines Kontos soll es möglich sein, die letzten (oder wahl-\n",
    "weise alle) Einträge aus diesem Protokoll zu erhalten. Optional kann dabei die Anzahl Einträge\n",
    "angegeben werden, die maximal geliefert werden soll.\n",
    "6. Abfrage der letzten Buchungen der Bank\n",
    "Auch die Bank soll ein Buchungsjournal führen, in dem jede Buchung mit Belastungs- und Gut-\n",
    "schriftkonto , Wert , Zeitangabe (s. oben) und Verwendungszweck registriert wird. Diese Operation\n",
    "ermöglicht den lesenden (!) Zugriff auf das Buchungsjournal. Optional kann dabei die Anzahl Ein-\n",
    "träge angegeben werden, die maximal geliefert werden soll.\n",
    "7. Ein Konto schliessen\n",
    "Diese Operation weisst die Bank an, ein Konto zu schliessen. Dazu ist die eindeutige Kennung des\n",
    "zu schliessenden Kontos anzugeben. Die Operation ist nur erfolgreich, wenn das zu schliessende\n",
    "Konto einen Stand von 0 aufweist. Der Auftraggeber (Aufrufer) muss informiert werden, ob der\n",
    "Auftrag ausgeführt wurde.\n",
    "\n",
    "(^1) Das Gewicht dieser Aufgabe liegt nicht auf der Benutzerschnittstelle. Sie wird lediglich benötigt, um die Anwendung demonstrieren\n",
    "zu können. Wendet daher möglichst wenig Zeit dafür auf. Allenfalls ist eine Kommandozeilen-basierte Lösung ausreichend.\n",
    "\n",
    "ofp – objektorientiert und funktional Programmieren\n",
    "© Prof. Dr. Wolfgang Weck 2\n",
    "\n",
    "2. Qualitätsanforderungen\n",
    "\n",
    "Die Mittel und Konzepte der objektorientierten Programmierung sollen genutzt werden, um eine möglichst\n",
    "leicht verständliche Programmstruktur zu erhalten, im Sinne des Low Representational Gap - Prinzips.\n",
    "\n",
    "Die gewählte Programmstruktur soll einen Auditor dabei unterstützen, einzusehen, dass die essenziellen\n",
    "Anforderungen an die Buchhaltung erfüllt sind. Insbesondere muss jeder Buchung auf oder von einem\n",
    "Konto eine entsprechende Gegenbuchung auf einem anderen Konto gegenüberstehen (mit der Ausnahme\n",
    "der Bareinzahlungen, die aber klar als solche erkennbar sein müssen und nur tatsächliche Ein- und keine\n",
    "Aus zahlungen sein dürfen.) Ausserdem müssen die Buchungsjournale der Konten mit den aktuellen Kon-\n",
    "toständen und dem Buchungsjournal der Bank konsistent sein.\n",
    "\n",
    "Die Bank soll Konten verschiedener Typen unterhalten können. Als Beispiele solcher Typen mögen fol-\n",
    "gende Anregungen dienen:\n",
    "\n",
    "Jugendkonto : Das Konto darf zu keinem Zeitpunkt einen negativen Saldo aufweisen. Buchungen\n",
    "(Zu- wie Abbuchungen) werden gebührenfrei ausgeführt.\n",
    "Privatkonto : Das Konto darf bis zu einem bestimmten Limit überzogen werden (d.h. es ist auch ein\n",
    "negativer Saldo im Rahmen des Limits erlaubt). Für Abbuchungen berechnet die Bank eine Gebühr\n",
    "(wie die genau berechnet wird, ist dir überlassen), die jeweils mit einer weiteren Buchung an ein\n",
    "festgelegtes Konto der Bank übertragen wird. Einzahlungen und Zubuchungen (solche, die den\n",
    "Kontostand vergrössern) werden gratis ausgeführt.\n",
    "Sparkonto : Das Konto darf zu keinem Zeitpunkt einen negativen Saldo aufweisen. Buchungen (Zu-\n",
    "wie Abbuchungen) werden gebührenfrei ausgeführt. Der Wert auf dem Konto wird zu einem festen\n",
    "Satz verzinst (die genaue Berechnung dieser Zinsen ist dir überlassen). Eine Zinsbuchung ist eine\n",
    "normale Buchung von einem festgelegten Konto der Bank auf dieses Konto.\n",
    "Das Programm soll dem Open-Closed-Prinzip folgen: Es soll offen sein für Veränderungen des Verhaltens\n",
    "aber der Programm-Code soll geschlossen sein, also nicht verändert werden müssen. Konkret sollen spä-\n",
    "ter neue Kontotypen hinzugefügt werden können, ohne dass das bereits vorhandene Programm dafür ver-\n",
    "ändert werden darf.^2 Beispielsweise könnte nachträglich ein Privatkonto eingeführt werden, für das bei\n",
    "negativem Stand Schuldzinsen an die Bank abgeführt werden. (Wie konnten wir das nur vergessen.) Es\n",
    "sind aber auch weitere neue Ideen wie ein Fremdwährungskonto (mit schwankenden Kursen) oder Kom-\n",
    "binationen bestehender Kontoeigenschaften vorstellbar.\n",
    "\n",
    "Aber Vorsicht: Vermeidet over engineering! Wichtig ist, dass man neue Kontotypen programmieren und\n",
    "deren Funktion der Bank hinzufügen kann. Allenfalls luxuriös aber weit weniger wichtig ist es, bei der Pro-\n",
    "grammierung neuer Kontotypen Code von bestehenden Kontotypen wieder- bzw. weiterverwenden zu kön-\n",
    "nen. Wenn dies der Verständlichkeit und Nachvollziehbarkeit dient (s. oben) ist es gut. Wenn es diesen\n",
    "Aspekten eher schadet, ist es schlecht.\n",
    "\n",
    "3. Vorgehensweise und Lösungsbestandteile\n",
    "\n",
    "Es empfiehlt sich, nicht einfach drauflos zu programmieren, sondern zunächst eine Auslegeordnung zu\n",
    "machen, welche Objekte es im laufenden System geben sollte, welche Verantwortung diese Objekte je-\n",
    "weils haben – also welche Aufgaben oder Rollen im System sie übernehmen – und wie sie zusammenar-\n",
    "beiten. Aus letzterem ergibt sich dann, welche Operationen die Objekte jeweils anderen Objekten anbieten\n",
    "müssen. Um diese Struktur (oder auch Architektur ) darstellen zu können, eignen sich Diagramme wie z.B.\n",
    "Objekt- und Sequenzdiagramme aus UML.\n",
    "\n",
    "Aus einem solchen Objektmodell kann man dann herauslesen, welche Klassen man programmieren muss,\n",
    "und was da jeweils dazugehört.\n",
    "\n",
    "Um zu zeigen, was man erreicht hat, sollte man die schliesslich programmierten Elemente ausgiebigen\n",
    "Tests unterziehen – sowohl einzeln als auch integriert im Gesamtsystem. Vielleicht ist es interessant, wenn\n",
    "ihr gegenseitig Eure Programme testet...\n",
    "\n",
    "Mit Tests lässt sich vor allem die Erfüllung funktionaler Anforderungen prüfen. Mit Hinblick auf die Quali-\n",
    "tätsanforderungen lassen sich teilweise reflektierende Gedanken über die Software-Struktur anführen, teil-\n",
    "weise kann man auch dafür Experimente machen, z.B. indem man nachträglich eine prototypische Erwei-\n",
    "terung dem System hinzufügt.\n",
    "\n",
    "Deine Lösung dieser Aufgabe sollte also aus Strukturdokumentation , Programm-Code , Tests und De-\n",
    "monstrationen sowie einer Reflexion über die Erreichung der Ziele bestehen.\n",
    "\n",
    "(^2) Allenfalls mit Ausnahme eines speziellen Programmteils, der dazu dient, alle aktuell benutzbaren Kontotypen zu registrieren. Dort\n",
    "darf man wenig Code hinzufügen müssen."
   ]
  },
  {
   "cell_type": "code",
   "execution_count": 2,
   "metadata": {},
   "outputs": [],
   "source": [
    "class Account:\n",
    "    def __init__(self, account_id):\n",
    "        '''\n",
    "        Parameters\n",
    "        account_id: int\n",
    "            The ID of the account\n",
    "        '''\n",
    "        self.account_id = account_id\n",
    "        self._balance = 0\n",
    "        self._transactions = []\n",
    "\n",
    "    def add_transaction(self, account_id, amount: float, action: str, purpose: str = None):\n",
    "        '''\n",
    "        add_transaction\n",
    "        -----\n",
    "        Adds a transaction to the account\n",
    "        \n",
    "        Parameters\n",
    "        account_id: int\n",
    "            The ID of the account\n",
    "        amount: float\n",
    "            The amount of the transaction\n",
    "        action: str\n",
    "            The action of the transaction\n",
    "        purpose: str; optional (default: None)\n",
    "            The purpose of the transaction\n",
    "        '''\n",
    "        self._transactions.append((account_id, amount, action, purpose))\n",
    "\n",
    "    def deposit(self, amount: float):\n",
    "        '''\n",
    "        deposit\n",
    "        -----\n",
    "        Deposits money into the account\n",
    "\n",
    "        Parameters\n",
    "        amount: float\n",
    "            The amount to be deposited\n",
    "        '''\n",
    "        self._balance += amount\n",
    "        self.add_transaction(self.account_id, amount, \"deposit\")\n",
    "\n",
    "    def transfer(self, amount: float, to_account, purpose: str = None):\n",
    "        '''\n",
    "        transfer\n",
    "        -----\n",
    "\n",
    "        Parameters\n",
    "        amount: float\n",
    "            The amount to be transferred\n",
    "        to_account: Account\n",
    "            The account to transfer the money to\n",
    "        purpose: str; optional (default: None)\n",
    "            The purpose of the transfer\n",
    "        '''\n",
    "        if not self.can_transfer(amount):\n",
    "            raise ValueError(\"Not enough balance to transfer\")\n",
    "        \n",
    "        self._balance -= amount\n",
    "        to_account.deposit(amount)\n",
    "        self.add_transaction(to_account.account_id, amount, \"transfer_send\", purpose)\n",
    "        to_account.add_transaction(self.account_id, amount, \"transfer_recieve\", purpose)\n",
    "\n",
    "    def get_balance(self) -> float:\n",
    "        '''\n",
    "        get_balance\n",
    "        -----\n",
    "        Returns the balance of the account\n",
    "        \n",
    "        returns: float\n",
    "            The balance of the account\n",
    "        '''\n",
    "        return self._balance\n",
    "    \n",
    "    def is_empty(self) -> bool:\n",
    "        '''\n",
    "        is_empty\n",
    "        -----\n",
    "        Returns True if the account is empty, False otherwise\n",
    "\n",
    "        returns: bool\n",
    "            True if the account is empty, False otherwise\n",
    "        '''\n",
    "        return self._balance == 0\n",
    "\n",
    "    def get_transactions(self, limit: float = None) -> list[tuple]:\n",
    "        '''\n",
    "        get_transactions\n",
    "        -----\n",
    "        Returns a list of transactions\n",
    "\n",
    "        Parameters\n",
    "        limit: float; optional (default: None)\n",
    "            The maximum number of transactions to return\n",
    "\n",
    "        returns: list[tuple]\n",
    "            A list of transactions\n",
    "        '''\n",
    "        if limit is None:\n",
    "            return self._transactions\n",
    "        else:\n",
    "            return self._transactions[:limit-1]\n",
    "\n",
    "    def can_transfer(self, amount: float) -> bool:\n",
    "        '''\n",
    "        can_transfer\n",
    "        -----\n",
    "        Returns True if the account can transfer the specified amount, False otherwise\n",
    "\n",
    "        Parameters\n",
    "        amount: float\n",
    "            The amount to be transferred\n",
    "\n",
    "        returns: bool\n",
    "            True if the account can transfer the specified amount, False otherwise\n",
    "        '''\n",
    "        return self._balance >= amount\n",
    "\n",
    "class Jugendkonto(Account):\n",
    "    def __init__(self, account_id):\n",
    "        '''\n",
    "        Parameters\n",
    "        account_id: int\n",
    "            The ID of the account\n",
    "        '''\n",
    "        super().__init__(account_id)\n",
    "\n",
    "class Privatkonto(Account):\n",
    "    def __init__(self, account_id, overdraft_limit: float = 1000, transfer_fees: float = 5):\n",
    "        '''\n",
    "        Parameters\n",
    "        account_id: int\n",
    "            The ID of the account\n",
    "        overdraft_limit: float; optional (default: 1000)\n",
    "            The overdraft limit of the account\n",
    "        transfer_fees: float; optional (default: 5)\n",
    "            The transfer fees of the account\n",
    "        '''\n",
    "        super().__init__(account_id)\n",
    "        self.__overdraft_limit = overdraft_limit\n",
    "        self.__transfer_fees = transfer_fees\n",
    "\n",
    "    def can_transfer(self, amount: float) -> bool:\n",
    "        '''\n",
    "        can_transfer\n",
    "        -----\n",
    "        Returns True if the account can transfer the specified amount, False otherwise\n",
    "\n",
    "        Parameters\n",
    "        amount: float\n",
    "            The amount to be transferred\n",
    "\n",
    "        returns: bool\n",
    "            True if the account can transfer the specified amount, False otherwise\n",
    "        '''\n",
    "        return self._balance + self.__overdraft_limit >= amount\n",
    "\n",
    "    def transfer(self, amount: float, to_account: Account, purpose: str = None):\n",
    "        '''\n",
    "        transfer\n",
    "        -----\n",
    "        transfers money from the account to another account\n",
    "\n",
    "        Parameters\n",
    "        amount: float\n",
    "            The amount to be transferred\n",
    "        to_account: Account\n",
    "            The account to transfer the money to\n",
    "        purpose: str; optional (default: None)\n",
    "            The purpose of the transfer\n",
    "        '''\n",
    "        if not self.can_transfer(amount+self.__transfer_fees):\n",
    "            raise ValueError(\"Not enough balance to transfer\")\n",
    "        \n",
    "        super().transfer(amount, to_account, purpose)\n",
    "        self._balance -= self.__transfer_fees\n",
    "\n",
    "class Sparkonto(Account):\n",
    "    def __init__(self, account_id, interest_rate: float = 0.05):\n",
    "        '''\n",
    "        Parameters\n",
    "        account_id: int\n",
    "            The ID of the account\n",
    "        interest_rate: float; optional (default: 0.05)\n",
    "            The interest rate of the account\n",
    "        '''\n",
    "        super().__init__(account_id)\n",
    "        self.__interest_rate = interest_rate\n",
    "\n",
    "    def update_balance(self):\n",
    "        '''\n",
    "        update_balance\n",
    "        -----\n",
    "        Updates the balance of the account based on the interest rate\n",
    "        '''\n",
    "        interest = self._balance * self.__interest_rate\n",
    "        self._balance += interest\n",
    "        self.add_transaction(None, interest, \"interest\")\n",
    "\n",
    "class Bank:\n",
    "    def __init__(self):\n",
    "        self.__accounts = {}\n",
    "\n",
    "    def open_account(self, account_id, account_type):\n",
    "        '''\n",
    "        open_account\n",
    "        -----\n",
    "        Opens an account\n",
    "\n",
    "        Parameters\n",
    "        account_id: Account\n",
    "            The ID of the account\n",
    "        account_type: Account\n",
    "            The type of the account\n",
    "        '''\n",
    "        if account_id in self.__accounts:\n",
    "            raise ValueError(\"Account ID already exists\")\n",
    "        \n",
    "        self.__accounts[account_id] = account_type(account_id)\n",
    "\n",
    "    def get_account(self, account_id: Account) -> Account:\n",
    "        '''\n",
    "        get_account\n",
    "        -----\n",
    "        Returns the account with the specified ID\n",
    "\n",
    "        Parameters\n",
    "        account_id: Account\n",
    "            The ID of the account\n",
    "\n",
    "        returns: Account\n",
    "            The account with the specified ID\n",
    "        '''\n",
    "        if account_id not in self.__accounts:\n",
    "            raise ValueError(\"Account ID does not exist\")\n",
    "        \n",
    "        return self.__accounts[account_id]\n",
    "\n",
    "    def inform_client(self, account_id: Account, action, to_account_id: Account = None, amount: float = None):\n",
    "        '''\n",
    "        inform_client\n",
    "        -----\n",
    "        Informs the client of an action on their account\n",
    "\n",
    "        Parameters\n",
    "        account_id: Account\n",
    "            The ID of the account\n",
    "        action: str\n",
    "            The action that happened\n",
    "        to_account_id: Account; optional (default: None)\n",
    "            The ID of the account the money was transferred to\n",
    "        amount: float; optional (default: None)\n",
    "            The amount of money that was transferred\n",
    "        '''\n",
    "        if account_id not in self.__accounts:\n",
    "            raise ValueError(\"Account ID does not exist\")\n",
    "        \n",
    "        # Imagine there is an external system to inform the client via email or text message\n",
    "        # Send email or text message to client @ account_id\n",
    "        # Just going to print a message as a placeholder\n",
    "        if action == \"deposit\":\n",
    "            print(f\"You have deposited {amount} into account: {account_id}\")\n",
    "        elif action == \"transfer_to\":\n",
    "            print(f\"You have transferred {amount} from your account: {account_id}, to account: {to_account_id}\")\n",
    "        elif action == \"transfer_from\":\n",
    "            print(f\"You have received {amount} from account: {account_id} into your account: {to_account_id}\")\n",
    "        elif action == \"interest\":\n",
    "            print(f\"You have received {amount} in interest on your account: {account_id}\")\n",
    "        else:\n",
    "            print(f\"An action has happened on your account: {account_id}, if you did not perform any action recently, please contact us immediately\")\n",
    "\n",
    "    def deposit_money(self, account_id: Account, amount: float):\n",
    "        '''\n",
    "        deposit_money\n",
    "        -----\n",
    "        Deposits money into an account\n",
    "\n",
    "        Parameters\n",
    "        account_id: Account\n",
    "            The ID of the account\n",
    "        amount: float\n",
    "            The amount to be deposited\n",
    "        '''\n",
    "        if account_id not in self.__accounts:\n",
    "            raise ValueError(\"Account ID does not exist\")\n",
    "        \n",
    "        self.__accounts[account_id].deposit(amount)\n",
    "        self.inform_client(account_id, \"deposit\", amount = amount)\n",
    "\n",
    "    def transfer_money(self, from_account_id: Account, to_account_id: Account, amount: float, purpose=None):\n",
    "        '''\n",
    "        transfer_money\n",
    "        -----\n",
    "        transfers money from one account to another\n",
    "\n",
    "        Parameters\n",
    "        from_account_id: Account\n",
    "            The ID of the account to transfer the money from\n",
    "        to_account_id: Account\n",
    "            The ID of the account to transfer the money to\n",
    "        amount: float\n",
    "            The amount to be transferred\n",
    "        purpose: str; optional (default: None)\n",
    "            The purpose of the transfer\n",
    "        '''\n",
    "        if from_account_id not in self.__accounts or to_account_id not in self.__accounts:\n",
    "            raise ValueError(\"One or both account IDs do not exist\")\n",
    "        \n",
    "        if not self.__accounts[from_account_id].can_transfer(amount):\n",
    "            raise ValueError(\"Not enough balance to transfer\")\n",
    "        \n",
    "        self.__accounts[from_account_id].transfer(amount, self.__accounts[to_account_id], purpose)\n",
    "        self.inform_client(from_account_id, \"transfer_to\", to_account_id, amount)\n",
    "        self.inform_client(to_account_id, \"transfer_from\", from_account_id, amount)\n",
    "\n",
    "    def get_account_balance(self, account_id: Account) -> float:\n",
    "        '''\n",
    "        get_account_balance\n",
    "        -----\n",
    "        Returns the balance of the account\n",
    "\n",
    "        Parameters\n",
    "        account_id: Account\n",
    "            The ID of the account\n",
    "\n",
    "        returns: float\n",
    "            The balance of the account\n",
    "        '''\n",
    "        if account_id not in self.__accounts:\n",
    "            raise ValueError(\"Account ID does not exist\")\n",
    "        \n",
    "        return self.__accounts[account_id].get_balance()\n",
    "\n",
    "    def get_account_transactions(self, account_id: Account, limit: float = None) -> list[tuple]:\n",
    "        '''\n",
    "        get_account_transactions\n",
    "        -----\n",
    "        Returns a list of transactions for the specified account\n",
    "\n",
    "        Parameters\n",
    "        account_id: Account\n",
    "            The ID of the account\n",
    "        limit: float; optional (default: None)\n",
    "            The maximum number of transactions to return\n",
    "\n",
    "        returns: list[tuple]\n",
    "            A list of transactions for the specified account\n",
    "        '''\n",
    "        if account_id not in self.__accounts:\n",
    "            raise ValueError(\"Account ID does not exist\")\n",
    "        \n",
    "        return self.__accounts[account_id].get_transactions(limit)\n",
    "\n",
    "    def get_bank_transactions(self, limit: float = None) -> list[tuple]:\n",
    "        '''\n",
    "        get_bank_transactions\n",
    "        -----\n",
    "        Returns a list of transactions for the bank\n",
    "\n",
    "        Parameters\n",
    "        limit: float; optional (default: None)\n",
    "            The maximum number of transactions to return\n",
    "\n",
    "        returns: list[tuple]\n",
    "            A list of transactions for the bank\n",
    "        '''\n",
    "        transactions = []\n",
    "        for account_id in self.__accounts:\n",
    "            transactions.extend(self.__accounts[account_id].get_transactions(limit))\n",
    "\n",
    "        return transactions\n",
    "\n",
    "    def close_account(self, account_id: Account):\n",
    "        '''\n",
    "        close_account\n",
    "        -----\n",
    "        Closes an account\n",
    "\n",
    "        Parameters\n",
    "        account_id: Account\n",
    "            The ID of the account\n",
    "        '''\n",
    "        if account_id not in self.__accounts:\n",
    "            raise ValueError(\"Account ID does not exist\")\n",
    "        \n",
    "        if not self.__accounts[account_id].is_empty():\n",
    "            raise ValueError(\"Account ID has non-zero balance\")\n",
    "        \n",
    "        del self.__accounts[account_id]"
   ]
  },
  {
   "cell_type": "code",
   "execution_count": 10,
   "metadata": {},
   "outputs": [
    {
     "name": "stderr",
     "output_type": "stream",
     "text": [
      "test_close_account (__main__.TestBank.test_close_account) ... ok\n",
      "test_deposit_money (__main__.TestBank.test_deposit_money) ... ok\n",
      "test_get_account_transactions (__main__.TestBank.test_get_account_transactions) ... ok\n",
      "test_get_bank_transactions (__main__.TestBank.test_get_bank_transactions) ... ok\n",
      "test_open_account (__main__.TestBank.test_open_account) ... ok\n",
      "test_transfer_money (__main__.TestBank.test_transfer_money) ... ok\n",
      "test_transfer_money_with_overdraft_limit (__main__.TestBank.test_transfer_money_with_overdraft_limit) ... ok\n",
      "test_transfer_money_with_transfer_fees (__main__.TestBank.test_transfer_money_with_transfer_fees) ... ok\n",
      "test_update_balance_with_interest (__main__.TestBank.test_update_balance_with_interest) ... ok\n",
      "\n",
      "----------------------------------------------------------------------\n",
      "Ran 9 tests in 0.006s\n",
      "\n",
      "OK\n"
     ]
    },
    {
     "name": "stdout",
     "output_type": "stream",
     "text": [
      "You have deposited 100 into account: 12345\n",
      "You have deposited 100 into account: 12345\n",
      "You have deposited 200 into account: 12345\n",
      "You have deposited 100 into account: 12345\n",
      "You have deposited 200 into account: 67890\n",
      "You have deposited 100 into account: 12345\n",
      "You have transferred 50 from your account: 12345, to account: 67890\n",
      "You have received 50 from account: 67890 into your account: 12345\n",
      "You have deposited 100 into account: 12345\n",
      "You have transferred 150 from your account: 12345, to account: 67890\n",
      "You have received 150 from account: 67890 into your account: 12345\n",
      "You have deposited 100 into account: 12345\n",
      "You have transferred 50 from your account: 12345, to account: 67890\n",
      "You have received 50 from account: 67890 into your account: 12345\n",
      "You have deposited 100 into account: 12345\n"
     ]
    },
    {
     "data": {
      "text/plain": [
       "<unittest.main.TestProgram at 0x14c1cfb7810>"
      ]
     },
     "execution_count": 10,
     "metadata": {},
     "output_type": "execute_result"
    }
   ],
   "source": [
    "import unittest\n",
    "\n",
    "class TestBank(unittest.TestCase):\n",
    "    def setUp(self):\n",
    "        self.bank = Bank()\n",
    "\n",
    "    def test_open_account(self):\n",
    "        account_id = \"12345\"\n",
    "        account_type = Jugendkonto\n",
    "        self.bank.open_account(account_id, account_type)\n",
    "        account = self.bank.get_account(account_id)\n",
    "        assert isinstance(account, Jugendkonto)\n",
    "\n",
    "    def test_deposit_money(self):\n",
    "        account_id = \"12345\"\n",
    "        account_type = Jugendkonto\n",
    "        self.bank.open_account(account_id, account_type)\n",
    "        self.bank.deposit_money(account_id, 100)\n",
    "        assert self.bank.get_account_balance(account_id) == 100\n",
    "\n",
    "    def test_transfer_money(self):\n",
    "        account_id = \"12345\"\n",
    "        account_type = Jugendkonto\n",
    "        to_account_id = \"67890\"\n",
    "        account_type = Jugendkonto\n",
    "        self.bank.open_account(account_id, account_type)\n",
    "        self.bank.open_account(to_account_id, account_type)\n",
    "        self.bank.deposit_money(account_id, 100)\n",
    "        self.bank.transfer_money(account_id, to_account_id, 50)\n",
    "        assert self.bank.get_account_balance(account_id) == 50\n",
    "        assert self.bank.get_account_balance(to_account_id) == 50\n",
    "\n",
    "    def test_transfer_money_with_overdraft_limit(self):\n",
    "        account_id = \"12345\"\n",
    "        account_type_from = Privatkonto\n",
    "        to_account_id = \"67890\"\n",
    "        account_type_to = Jugendkonto\n",
    "        self.bank.open_account(account_id, account_type_from)\n",
    "        self.bank.open_account(to_account_id, account_type_to)\n",
    "        self.bank.deposit_money(account_id, 100)\n",
    "        self.bank.transfer_money(account_id, to_account_id, 150)\n",
    "        assert self.bank.get_account_balance(account_id) == -55\n",
    "        assert self.bank.get_account_balance(to_account_id) == 150\n",
    "\n",
    "    def test_transfer_money_with_transfer_fees(self):\n",
    "        account_id = \"12345\"\n",
    "        account_type_from = Privatkonto\n",
    "        to_account_id = \"67890\"\n",
    "        account_type_to = Jugendkonto\n",
    "        self.bank.open_account(account_id, account_type_from)\n",
    "        self.bank.open_account(to_account_id, account_type_to)\n",
    "        self.bank.deposit_money(account_id, 100)\n",
    "        self.bank.transfer_money(account_id, to_account_id, 50)\n",
    "        assert self.bank.get_account_balance(account_id) == 50 - 5\n",
    "        assert self.bank.get_account_balance(to_account_id) == 50\n",
    "\n",
    "    def test_update_balance_with_interest(self):\n",
    "        account_id = \"12345\"\n",
    "        account_type = Sparkonto\n",
    "        self.bank.open_account(account_id, account_type)\n",
    "        self.bank.deposit_money(account_id, 100)\n",
    "        account = self.bank.get_account(account_id)\n",
    "        account.update_balance()\n",
    "        assert self.bank.get_account_balance(account_id) == 105\n",
    "\n",
    "    def test_close_account(self):\n",
    "        account_id = \"12345\"\n",
    "        account_type = Jugendkonto\n",
    "        self.bank.open_account(account_id, account_type)\n",
    "        self.bank.close_account(account_id)\n",
    "        assert account_id not in self.bank._Bank__accounts\n",
    "\n",
    "    def test_get_account_transactions(self):\n",
    "        account_id = \"12345\"\n",
    "        account_type = Jugendkonto\n",
    "        self.bank.open_account(account_id, account_type)\n",
    "        self.bank.deposit_money(account_id, 100)\n",
    "        self.bank.deposit_money(account_id, 200)\n",
    "        transactions = self.bank.get_account_transactions(account_id)\n",
    "        assert len(transactions) == 2\n",
    "        assert transactions[0][1] == 100\n",
    "        assert transactions[1][1] == 200\n",
    "\n",
    "    def test_get_bank_transactions(self):\n",
    "        account_id_1 = \"12345\"\n",
    "        account_type = Jugendkonto\n",
    "        account_id_2 = \"67890\"\n",
    "        self.bank.open_account(account_id_1, account_type)\n",
    "        self.bank.open_account(account_id_2, account_type)\n",
    "        self.bank.deposit_money(account_id_1, 100)\n",
    "        self.bank.deposit_money(account_id_2, 200)\n",
    "        transactions = self.bank.get_bank_transactions()\n",
    "        assert len(transactions) == 2\n",
    "        assert transactions[0][1] == 100\n",
    "        assert transactions[1][1] == 200\n",
    "        assert transactions[0][0] == account_id_1\n",
    "        assert transactions[1][0] == account_id_2\n",
    "\n",
    "# Run tests\n",
    "unittest.main(argv=[''], verbosity=2, exit=False)\n"
   ]
  }
 ],
 "metadata": {
  "kernelspec": {
   "display_name": "Python 3",
   "language": "python",
   "name": "python3"
  },
  "language_info": {
   "codemirror_mode": {
    "name": "ipython",
    "version": 3
   },
   "file_extension": ".py",
   "mimetype": "text/x-python",
   "name": "python",
   "nbconvert_exporter": "python",
   "pygments_lexer": "ipython3",
   "version": "3.11.4"
  },
  "orig_nbformat": 4
 },
 "nbformat": 4,
 "nbformat_minor": 2
}
